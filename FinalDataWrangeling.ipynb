{
  "cells": [
    {
      "cell_type": "code",
      "execution_count": 1,
      "metadata": {
        "id": "fMyyUsV8JkLr"
      },
      "outputs": [],
      "source": [
        "import pandas as pd\n",
        "import numpy as np"
      ]
    },
    {
      "cell_type": "code",
      "execution_count": null,
      "metadata": {
        "id": "5s8ktxk1J-k8"
      },
      "outputs": [],
      "source": [
        "df = pd.read_csv(\"/Users/alielrogbany/Documents/UNI/Y3 S1/Data-Wrangling/DW-Final/Large_Related_Student_Performance_Data.csv\")\n"
      ]
    },
    {
      "cell_type": "code",
      "execution_count": 3,
      "metadata": {
        "colab": {
          "base_uri": "https://localhost:8080/",
          "height": 226
        },
        "id": "a1wfQrmbKNhs",
        "outputId": "1d9f93d0-0d35-4725-8673-2ae9bbc1b464"
      },
      "outputs": [
        {
          "data": {
            "text/html": [
              "<div>\n",
              "<style scoped>\n",
              "    .dataframe tbody tr th:only-of-type {\n",
              "        vertical-align: middle;\n",
              "    }\n",
              "\n",
              "    .dataframe tbody tr th {\n",
              "        vertical-align: top;\n",
              "    }\n",
              "\n",
              "    .dataframe thead th {\n",
              "        text-align: right;\n",
              "    }\n",
              "</style>\n",
              "<table border=\"1\" class=\"dataframe\">\n",
              "  <thead>\n",
              "    <tr style=\"text-align: right;\">\n",
              "      <th></th>\n",
              "      <th>StudentID</th>\n",
              "      <th>Age</th>\n",
              "      <th>Gender</th>\n",
              "      <th>Ethnicity</th>\n",
              "      <th>ParentalEducation</th>\n",
              "      <th>StudyTimeWeekly</th>\n",
              "      <th>Absences</th>\n",
              "      <th>Tutoring</th>\n",
              "      <th>ParentalSupport</th>\n",
              "      <th>Extracurricular</th>\n",
              "      <th>Sports</th>\n",
              "      <th>Music</th>\n",
              "      <th>Volunteering</th>\n",
              "      <th>GPA</th>\n",
              "      <th>GradeClass</th>\n",
              "    </tr>\n",
              "  </thead>\n",
              "  <tbody>\n",
              "    <tr>\n",
              "      <th>0</th>\n",
              "      <td>1001.0</td>\n",
              "      <td>17.0</td>\n",
              "      <td>0.0</td>\n",
              "      <td>NaN</td>\n",
              "      <td>3.0</td>\n",
              "      <td>NaN</td>\n",
              "      <td>NaN</td>\n",
              "      <td>1.0</td>\n",
              "      <td>1.0</td>\n",
              "      <td>0.0</td>\n",
              "      <td>1.0</td>\n",
              "      <td>1.0</td>\n",
              "      <td>0.0</td>\n",
              "      <td>4.150311</td>\n",
              "      <td>3.0</td>\n",
              "    </tr>\n",
              "    <tr>\n",
              "      <th>1</th>\n",
              "      <td>1002.0</td>\n",
              "      <td>18.0</td>\n",
              "      <td>1.0</td>\n",
              "      <td>3.0</td>\n",
              "      <td>4.0</td>\n",
              "      <td>17.0</td>\n",
              "      <td>3.0</td>\n",
              "      <td>0.0</td>\n",
              "      <td>1.0</td>\n",
              "      <td>1.0</td>\n",
              "      <td>0.0</td>\n",
              "      <td>0.0</td>\n",
              "      <td>1.0</td>\n",
              "      <td>3.157054</td>\n",
              "      <td>3.0</td>\n",
              "    </tr>\n",
              "    <tr>\n",
              "      <th>2</th>\n",
              "      <td>1003.0</td>\n",
              "      <td>NaN</td>\n",
              "      <td>0.0</td>\n",
              "      <td>3.0</td>\n",
              "      <td>4.0</td>\n",
              "      <td>13.0</td>\n",
              "      <td>16.0</td>\n",
              "      <td>0.0</td>\n",
              "      <td>NaN</td>\n",
              "      <td>NaN</td>\n",
              "      <td>0.0</td>\n",
              "      <td>1.0</td>\n",
              "      <td>0.0</td>\n",
              "      <td>3.270831</td>\n",
              "      <td>3.0</td>\n",
              "    </tr>\n",
              "    <tr>\n",
              "      <th>3</th>\n",
              "      <td>1004.0</td>\n",
              "      <td>17.0</td>\n",
              "      <td>1.0</td>\n",
              "      <td>1.0</td>\n",
              "      <td>3.0</td>\n",
              "      <td>2.0</td>\n",
              "      <td>14.0</td>\n",
              "      <td>1.0</td>\n",
              "      <td>1.0</td>\n",
              "      <td>0.0</td>\n",
              "      <td>1.0</td>\n",
              "      <td>NaN</td>\n",
              "      <td>0.0</td>\n",
              "      <td>2.809237</td>\n",
              "      <td>4.0</td>\n",
              "    </tr>\n",
              "    <tr>\n",
              "      <th>4</th>\n",
              "      <td>1005.0</td>\n",
              "      <td>17.0</td>\n",
              "      <td>NaN</td>\n",
              "      <td>0.0</td>\n",
              "      <td>3.0</td>\n",
              "      <td>13.0</td>\n",
              "      <td>7.0</td>\n",
              "      <td>1.0</td>\n",
              "      <td>0.0</td>\n",
              "      <td>1.0</td>\n",
              "      <td>0.0</td>\n",
              "      <td>NaN</td>\n",
              "      <td>1.0</td>\n",
              "      <td>NaN</td>\n",
              "      <td>2.0</td>\n",
              "    </tr>\n",
              "  </tbody>\n",
              "</table>\n",
              "</div>"
            ],
            "text/plain": [
              "   StudentID   Age  Gender  Ethnicity  ParentalEducation  StudyTimeWeekly  \\\n",
              "0     1001.0  17.0     0.0        NaN                3.0              NaN   \n",
              "1     1002.0  18.0     1.0        3.0                4.0             17.0   \n",
              "2     1003.0   NaN     0.0        3.0                4.0             13.0   \n",
              "3     1004.0  17.0     1.0        1.0                3.0              2.0   \n",
              "4     1005.0  17.0     NaN        0.0                3.0             13.0   \n",
              "\n",
              "   Absences  Tutoring  ParentalSupport  Extracurricular  Sports  Music  \\\n",
              "0       NaN       1.0              1.0              0.0     1.0    1.0   \n",
              "1       3.0       0.0              1.0              1.0     0.0    0.0   \n",
              "2      16.0       0.0              NaN              NaN     0.0    1.0   \n",
              "3      14.0       1.0              1.0              0.0     1.0    NaN   \n",
              "4       7.0       1.0              0.0              1.0     0.0    NaN   \n",
              "\n",
              "   Volunteering       GPA  GradeClass  \n",
              "0           0.0  4.150311         3.0  \n",
              "1           1.0  3.157054         3.0  \n",
              "2           0.0  3.270831         3.0  \n",
              "3           0.0  2.809237         4.0  \n",
              "4           1.0       NaN         2.0  "
            ]
          },
          "execution_count": 3,
          "metadata": {},
          "output_type": "execute_result"
        }
      ],
      "source": [
        "df.head()"
      ]
    },
    {
      "cell_type": "code",
      "execution_count": 4,
      "metadata": {
        "colab": {
          "base_uri": "https://localhost:8080/"
        },
        "id": "QKkFfal7KPbn",
        "outputId": "b0942280-50d8-47c6-8242-362829b1c46f"
      },
      "outputs": [
        {
          "name": "stdout",
          "output_type": "stream",
          "text": [
            "<class 'pandas.core.frame.DataFrame'>\n",
            "RangeIndex: 10000 entries, 0 to 9999\n",
            "Data columns (total 15 columns):\n",
            " #   Column             Non-Null Count  Dtype  \n",
            "---  ------             --------------  -----  \n",
            " 0   StudentID          9000 non-null   float64\n",
            " 1   Age                9000 non-null   float64\n",
            " 2   Gender             9000 non-null   float64\n",
            " 3   Ethnicity          9000 non-null   float64\n",
            " 4   ParentalEducation  9000 non-null   float64\n",
            " 5   StudyTimeWeekly    9000 non-null   float64\n",
            " 6   Absences           9000 non-null   float64\n",
            " 7   Tutoring           9000 non-null   float64\n",
            " 8   ParentalSupport    9000 non-null   float64\n",
            " 9   Extracurricular    9000 non-null   float64\n",
            " 10  Sports             9000 non-null   float64\n",
            " 11  Music              9000 non-null   float64\n",
            " 12  Volunteering       9000 non-null   float64\n",
            " 13  GPA                9000 non-null   float64\n",
            " 14  GradeClass         9000 non-null   float64\n",
            "dtypes: float64(15)\n",
            "memory usage: 1.1 MB\n"
          ]
        }
      ],
      "source": [
        "df.info()"
      ]
    },
    {
      "cell_type": "code",
      "execution_count": 5,
      "metadata": {},
      "outputs": [
        {
          "data": {
            "text/html": [
              "<div>\n",
              "<style scoped>\n",
              "    .dataframe tbody tr th:only-of-type {\n",
              "        vertical-align: middle;\n",
              "    }\n",
              "\n",
              "    .dataframe tbody tr th {\n",
              "        vertical-align: top;\n",
              "    }\n",
              "\n",
              "    .dataframe thead th {\n",
              "        text-align: right;\n",
              "    }\n",
              "</style>\n",
              "<table border=\"1\" class=\"dataframe\">\n",
              "  <thead>\n",
              "    <tr style=\"text-align: right;\">\n",
              "      <th></th>\n",
              "      <th>StudentID</th>\n",
              "      <th>Age</th>\n",
              "      <th>Gender</th>\n",
              "      <th>Ethnicity</th>\n",
              "      <th>ParentalEducation</th>\n",
              "      <th>StudyTimeWeekly</th>\n",
              "      <th>Absences</th>\n",
              "      <th>Tutoring</th>\n",
              "      <th>ParentalSupport</th>\n",
              "      <th>Extracurricular</th>\n",
              "      <th>Sports</th>\n",
              "      <th>Music</th>\n",
              "      <th>Volunteering</th>\n",
              "      <th>GPA</th>\n",
              "      <th>GradeClass</th>\n",
              "    </tr>\n",
              "  </thead>\n",
              "  <tbody>\n",
              "    <tr>\n",
              "      <th>0</th>\n",
              "      <td>1001</td>\n",
              "      <td>17.0</td>\n",
              "      <td>0.0</td>\n",
              "      <td>NaN</td>\n",
              "      <td>3.0</td>\n",
              "      <td>NaN</td>\n",
              "      <td>NaN</td>\n",
              "      <td>1.0</td>\n",
              "      <td>1.0</td>\n",
              "      <td>0.0</td>\n",
              "      <td>1.0</td>\n",
              "      <td>1.0</td>\n",
              "      <td>0.0</td>\n",
              "      <td>4.150311</td>\n",
              "      <td>3.0</td>\n",
              "    </tr>\n",
              "    <tr>\n",
              "      <th>1</th>\n",
              "      <td>1002</td>\n",
              "      <td>18.0</td>\n",
              "      <td>1.0</td>\n",
              "      <td>3.0</td>\n",
              "      <td>4.0</td>\n",
              "      <td>17.0</td>\n",
              "      <td>3.0</td>\n",
              "      <td>0.0</td>\n",
              "      <td>1.0</td>\n",
              "      <td>1.0</td>\n",
              "      <td>0.0</td>\n",
              "      <td>0.0</td>\n",
              "      <td>1.0</td>\n",
              "      <td>3.157054</td>\n",
              "      <td>3.0</td>\n",
              "    </tr>\n",
              "    <tr>\n",
              "      <th>2</th>\n",
              "      <td>1003</td>\n",
              "      <td>NaN</td>\n",
              "      <td>0.0</td>\n",
              "      <td>3.0</td>\n",
              "      <td>4.0</td>\n",
              "      <td>13.0</td>\n",
              "      <td>16.0</td>\n",
              "      <td>0.0</td>\n",
              "      <td>NaN</td>\n",
              "      <td>NaN</td>\n",
              "      <td>0.0</td>\n",
              "      <td>1.0</td>\n",
              "      <td>0.0</td>\n",
              "      <td>3.270831</td>\n",
              "      <td>3.0</td>\n",
              "    </tr>\n",
              "    <tr>\n",
              "      <th>3</th>\n",
              "      <td>1004</td>\n",
              "      <td>17.0</td>\n",
              "      <td>1.0</td>\n",
              "      <td>1.0</td>\n",
              "      <td>3.0</td>\n",
              "      <td>2.0</td>\n",
              "      <td>14.0</td>\n",
              "      <td>1.0</td>\n",
              "      <td>1.0</td>\n",
              "      <td>0.0</td>\n",
              "      <td>1.0</td>\n",
              "      <td>NaN</td>\n",
              "      <td>0.0</td>\n",
              "      <td>2.809237</td>\n",
              "      <td>4.0</td>\n",
              "    </tr>\n",
              "    <tr>\n",
              "      <th>4</th>\n",
              "      <td>1005</td>\n",
              "      <td>17.0</td>\n",
              "      <td>NaN</td>\n",
              "      <td>0.0</td>\n",
              "      <td>3.0</td>\n",
              "      <td>13.0</td>\n",
              "      <td>7.0</td>\n",
              "      <td>1.0</td>\n",
              "      <td>0.0</td>\n",
              "      <td>1.0</td>\n",
              "      <td>0.0</td>\n",
              "      <td>NaN</td>\n",
              "      <td>1.0</td>\n",
              "      <td>NaN</td>\n",
              "      <td>2.0</td>\n",
              "    </tr>\n",
              "  </tbody>\n",
              "</table>\n",
              "</div>"
            ],
            "text/plain": [
              "   StudentID   Age  Gender  Ethnicity  ParentalEducation  StudyTimeWeekly  \\\n",
              "0       1001  17.0     0.0        NaN                3.0              NaN   \n",
              "1       1002  18.0     1.0        3.0                4.0             17.0   \n",
              "2       1003   NaN     0.0        3.0                4.0             13.0   \n",
              "3       1004  17.0     1.0        1.0                3.0              2.0   \n",
              "4       1005  17.0     NaN        0.0                3.0             13.0   \n",
              "\n",
              "   Absences  Tutoring  ParentalSupport  Extracurricular  Sports  Music  \\\n",
              "0       NaN       1.0              1.0              0.0     1.0    1.0   \n",
              "1       3.0       0.0              1.0              1.0     0.0    0.0   \n",
              "2      16.0       0.0              NaN              NaN     0.0    1.0   \n",
              "3      14.0       1.0              1.0              0.0     1.0    NaN   \n",
              "4       7.0       1.0              0.0              1.0     0.0    NaN   \n",
              "\n",
              "   Volunteering       GPA  GradeClass  \n",
              "0           0.0  4.150311         3.0  \n",
              "1           1.0  3.157054         3.0  \n",
              "2           0.0  3.270831         3.0  \n",
              "3           0.0  2.809237         4.0  \n",
              "4           1.0       NaN         2.0  "
            ]
          },
          "execution_count": 5,
          "metadata": {},
          "output_type": "execute_result"
        }
      ],
      "source": [
        "df['StudentID'] = df['StudentID'].fillna(0)  # Temporary fill for missing IDs\n",
        "max_id = int(df['StudentID'].max())\n",
        "missing_ids = df[df['StudentID'] == 0].index\n",
        "df.loc[missing_ids, 'StudentID'] = range(max_id + 1, max_id + 1 + len(missing_ids))\n",
        "df['StudentID'] = df['StudentID'].astype(int)  \n",
        "df.head()"
      ]
    },
    {
      "cell_type": "code",
      "execution_count": 6,
      "metadata": {},
      "outputs": [],
      "source": [
        "df['Age'] = df['Age'].fillna(df['Age'].median())"
      ]
    },
    {
      "cell_type": "code",
      "execution_count": 7,
      "metadata": {},
      "outputs": [],
      "source": [
        "df['Gender'] = df['Gender'].fillna(df['Gender'].mode()[0])\n",
        "df['Ethnicity'] = df['Ethnicity'].fillna(df['Ethnicity'].mode()[0])\n",
        "df['ParentalEducation'] = df['ParentalEducation'].fillna(df['ParentalEducation'].mode()[0])"
      ]
    },
    {
      "cell_type": "code",
      "execution_count": 8,
      "metadata": {},
      "outputs": [],
      "source": [
        "df['StudyTimeWeekly'] = df['StudyTimeWeekly'].fillna(df['StudyTimeWeekly'].median())\n",
        "df['Absences'] = df['Absences'].fillna(df['Absences'].median())"
      ]
    },
    {
      "cell_type": "code",
      "execution_count": 9,
      "metadata": {},
      "outputs": [],
      "source": [
        "df['Tutoring'] = df['Tutoring'].fillna(df['Tutoring'].mode()[0])\n",
        "df['ParentalSupport'] = df['ParentalSupport'].fillna(df['ParentalSupport'].mode()[0])\n",
        "df['Extracurricular'] = df['Extracurricular'].fillna(df['Extracurricular'].mode()[0])\n",
        "df['Sports'] = df['Sports'].fillna(df['Sports'].mode()[0])\n",
        "df['Music'] = df['Music'].fillna(df['Music'].mode()[0])\n",
        "df['Volunteering'] = df['Volunteering'].fillna(df['Volunteering'].mode()[0])"
      ]
    },
    {
      "cell_type": "code",
      "execution_count": 10,
      "metadata": {},
      "outputs": [],
      "source": [
        "df['GPA'] = df['GPA'].fillna(df['GPA'].median())\n",
        "df['GradeClass'] = df['GradeClass'].fillna(df['GradeClass'].mode()[0])"
      ]
    },
    {
      "cell_type": "code",
      "execution_count": 11,
      "metadata": {},
      "outputs": [
        {
          "data": {
            "text/html": [
              "<div>\n",
              "<style scoped>\n",
              "    .dataframe tbody tr th:only-of-type {\n",
              "        vertical-align: middle;\n",
              "    }\n",
              "\n",
              "    .dataframe tbody tr th {\n",
              "        vertical-align: top;\n",
              "    }\n",
              "\n",
              "    .dataframe thead th {\n",
              "        text-align: right;\n",
              "    }\n",
              "</style>\n",
              "<table border=\"1\" class=\"dataframe\">\n",
              "  <thead>\n",
              "    <tr style=\"text-align: right;\">\n",
              "      <th></th>\n",
              "      <th>StudentID</th>\n",
              "      <th>Age</th>\n",
              "      <th>Gender</th>\n",
              "      <th>Ethnicity</th>\n",
              "      <th>ParentalEducation</th>\n",
              "      <th>StudyTimeWeekly</th>\n",
              "      <th>Absences</th>\n",
              "      <th>Tutoring</th>\n",
              "      <th>ParentalSupport</th>\n",
              "      <th>Extracurricular</th>\n",
              "      <th>Sports</th>\n",
              "      <th>Music</th>\n",
              "      <th>Volunteering</th>\n",
              "      <th>GPA</th>\n",
              "      <th>GradeClass</th>\n",
              "    </tr>\n",
              "  </thead>\n",
              "  <tbody>\n",
              "    <tr>\n",
              "      <th>0</th>\n",
              "      <td>1001</td>\n",
              "      <td>17.0</td>\n",
              "      <td>0.0</td>\n",
              "      <td>1.0</td>\n",
              "      <td>3.0</td>\n",
              "      <td>10.0</td>\n",
              "      <td>7.0</td>\n",
              "      <td>1.0</td>\n",
              "      <td>1.0</td>\n",
              "      <td>0.0</td>\n",
              "      <td>1.0</td>\n",
              "      <td>1.0</td>\n",
              "      <td>0.0</td>\n",
              "      <td>4.150311</td>\n",
              "      <td>3.0</td>\n",
              "    </tr>\n",
              "    <tr>\n",
              "      <th>1</th>\n",
              "      <td>1002</td>\n",
              "      <td>18.0</td>\n",
              "      <td>1.0</td>\n",
              "      <td>3.0</td>\n",
              "      <td>4.0</td>\n",
              "      <td>17.0</td>\n",
              "      <td>3.0</td>\n",
              "      <td>0.0</td>\n",
              "      <td>1.0</td>\n",
              "      <td>1.0</td>\n",
              "      <td>0.0</td>\n",
              "      <td>0.0</td>\n",
              "      <td>1.0</td>\n",
              "      <td>3.157054</td>\n",
              "      <td>3.0</td>\n",
              "    </tr>\n",
              "    <tr>\n",
              "      <th>2</th>\n",
              "      <td>1003</td>\n",
              "      <td>16.0</td>\n",
              "      <td>0.0</td>\n",
              "      <td>3.0</td>\n",
              "      <td>4.0</td>\n",
              "      <td>13.0</td>\n",
              "      <td>16.0</td>\n",
              "      <td>0.0</td>\n",
              "      <td>1.0</td>\n",
              "      <td>1.0</td>\n",
              "      <td>0.0</td>\n",
              "      <td>1.0</td>\n",
              "      <td>0.0</td>\n",
              "      <td>3.270831</td>\n",
              "      <td>3.0</td>\n",
              "    </tr>\n",
              "    <tr>\n",
              "      <th>3</th>\n",
              "      <td>1004</td>\n",
              "      <td>17.0</td>\n",
              "      <td>1.0</td>\n",
              "      <td>1.0</td>\n",
              "      <td>3.0</td>\n",
              "      <td>2.0</td>\n",
              "      <td>14.0</td>\n",
              "      <td>1.0</td>\n",
              "      <td>1.0</td>\n",
              "      <td>0.0</td>\n",
              "      <td>1.0</td>\n",
              "      <td>1.0</td>\n",
              "      <td>0.0</td>\n",
              "      <td>2.809237</td>\n",
              "      <td>4.0</td>\n",
              "    </tr>\n",
              "    <tr>\n",
              "      <th>4</th>\n",
              "      <td>1005</td>\n",
              "      <td>17.0</td>\n",
              "      <td>0.0</td>\n",
              "      <td>0.0</td>\n",
              "      <td>3.0</td>\n",
              "      <td>13.0</td>\n",
              "      <td>7.0</td>\n",
              "      <td>1.0</td>\n",
              "      <td>0.0</td>\n",
              "      <td>1.0</td>\n",
              "      <td>0.0</td>\n",
              "      <td>1.0</td>\n",
              "      <td>1.0</td>\n",
              "      <td>2.699420</td>\n",
              "      <td>2.0</td>\n",
              "    </tr>\n",
              "  </tbody>\n",
              "</table>\n",
              "</div>"
            ],
            "text/plain": [
              "   StudentID   Age  Gender  Ethnicity  ParentalEducation  StudyTimeWeekly  \\\n",
              "0       1001  17.0     0.0        1.0                3.0             10.0   \n",
              "1       1002  18.0     1.0        3.0                4.0             17.0   \n",
              "2       1003  16.0     0.0        3.0                4.0             13.0   \n",
              "3       1004  17.0     1.0        1.0                3.0              2.0   \n",
              "4       1005  17.0     0.0        0.0                3.0             13.0   \n",
              "\n",
              "   Absences  Tutoring  ParentalSupport  Extracurricular  Sports  Music  \\\n",
              "0       7.0       1.0              1.0              0.0     1.0    1.0   \n",
              "1       3.0       0.0              1.0              1.0     0.0    0.0   \n",
              "2      16.0       0.0              1.0              1.0     0.0    1.0   \n",
              "3      14.0       1.0              1.0              0.0     1.0    1.0   \n",
              "4       7.0       1.0              0.0              1.0     0.0    1.0   \n",
              "\n",
              "   Volunteering       GPA  GradeClass  \n",
              "0           0.0  4.150311         3.0  \n",
              "1           1.0  3.157054         3.0  \n",
              "2           0.0  3.270831         3.0  \n",
              "3           0.0  2.809237         4.0  \n",
              "4           1.0  2.699420         2.0  "
            ]
          },
          "execution_count": 11,
          "metadata": {},
          "output_type": "execute_result"
        }
      ],
      "source": [
        "df.head()"
      ]
    },
    {
      "cell_type": "code",
      "execution_count": 12,
      "metadata": {
        "colab": {
          "base_uri": "https://localhost:8080/",
          "height": 320
        },
        "id": "djZUEUEWKUZF",
        "outputId": "f2546c57-727f-4854-ed41-113575fce66a"
      },
      "outputs": [
        {
          "data": {
            "text/html": [
              "<div>\n",
              "<style scoped>\n",
              "    .dataframe tbody tr th:only-of-type {\n",
              "        vertical-align: middle;\n",
              "    }\n",
              "\n",
              "    .dataframe tbody tr th {\n",
              "        vertical-align: top;\n",
              "    }\n",
              "\n",
              "    .dataframe thead th {\n",
              "        text-align: right;\n",
              "    }\n",
              "</style>\n",
              "<table border=\"1\" class=\"dataframe\">\n",
              "  <thead>\n",
              "    <tr style=\"text-align: right;\">\n",
              "      <th></th>\n",
              "      <th>StudentID</th>\n",
              "      <th>Age</th>\n",
              "      <th>Gender</th>\n",
              "      <th>Ethnicity</th>\n",
              "      <th>ParentalEducation</th>\n",
              "      <th>StudyTimeWeekly</th>\n",
              "      <th>Absences</th>\n",
              "      <th>Tutoring</th>\n",
              "      <th>ParentalSupport</th>\n",
              "      <th>Extracurricular</th>\n",
              "      <th>Sports</th>\n",
              "      <th>Music</th>\n",
              "      <th>Volunteering</th>\n",
              "      <th>GPA</th>\n",
              "      <th>GradeClass</th>\n",
              "    </tr>\n",
              "  </thead>\n",
              "  <tbody>\n",
              "    <tr>\n",
              "      <th>count</th>\n",
              "      <td>10000.000000</td>\n",
              "      <td>10000.000000</td>\n",
              "      <td>10000.000000</td>\n",
              "      <td>10000.000000</td>\n",
              "      <td>10000.000000</td>\n",
              "      <td>10000.000000</td>\n",
              "      <td>10000.00000</td>\n",
              "      <td>10000.000000</td>\n",
              "      <td>10000.000000</td>\n",
              "      <td>10000.000000</td>\n",
              "      <td>10000.000000</td>\n",
              "      <td>10000.000000</td>\n",
              "      <td>10000.000000</td>\n",
              "      <td>10000.000000</td>\n",
              "      <td>10000.000000</td>\n",
              "    </tr>\n",
              "    <tr>\n",
              "      <th>mean</th>\n",
              "      <td>6554.252700</td>\n",
              "      <td>16.443900</td>\n",
              "      <td>0.448200</td>\n",
              "      <td>1.451300</td>\n",
              "      <td>2.224300</td>\n",
              "      <td>10.065600</td>\n",
              "      <td>7.22730</td>\n",
              "      <td>0.446500</td>\n",
              "      <td>0.550400</td>\n",
              "      <td>0.559200</td>\n",
              "      <td>0.449400</td>\n",
              "      <td>0.552400</td>\n",
              "      <td>0.445700</td>\n",
              "      <td>2.696713</td>\n",
              "      <td>2.339400</td>\n",
              "    </tr>\n",
              "    <tr>\n",
              "      <th>std</th>\n",
              "      <td>3199.895523</td>\n",
              "      <td>1.075997</td>\n",
              "      <td>0.497334</td>\n",
              "      <td>1.067212</td>\n",
              "      <td>1.472687</td>\n",
              "      <td>5.141978</td>\n",
              "      <td>5.24938</td>\n",
              "      <td>0.497154</td>\n",
              "      <td>0.497478</td>\n",
              "      <td>0.496508</td>\n",
              "      <td>0.497458</td>\n",
              "      <td>0.497272</td>\n",
              "      <td>0.497068</td>\n",
              "      <td>0.549403</td>\n",
              "      <td>1.154617</td>\n",
              "    </tr>\n",
              "    <tr>\n",
              "      <th>min</th>\n",
              "      <td>1001.000000</td>\n",
              "      <td>15.000000</td>\n",
              "      <td>0.000000</td>\n",
              "      <td>0.000000</td>\n",
              "      <td>0.000000</td>\n",
              "      <td>1.000000</td>\n",
              "      <td>0.00000</td>\n",
              "      <td>0.000000</td>\n",
              "      <td>0.000000</td>\n",
              "      <td>0.000000</td>\n",
              "      <td>0.000000</td>\n",
              "      <td>0.000000</td>\n",
              "      <td>0.000000</td>\n",
              "      <td>0.601010</td>\n",
              "      <td>1.000000</td>\n",
              "    </tr>\n",
              "    <tr>\n",
              "      <th>25%</th>\n",
              "      <td>3775.750000</td>\n",
              "      <td>16.000000</td>\n",
              "      <td>0.000000</td>\n",
              "      <td>1.000000</td>\n",
              "      <td>1.000000</td>\n",
              "      <td>6.000000</td>\n",
              "      <td>3.00000</td>\n",
              "      <td>0.000000</td>\n",
              "      <td>0.000000</td>\n",
              "      <td>0.000000</td>\n",
              "      <td>0.000000</td>\n",
              "      <td>0.000000</td>\n",
              "      <td>0.000000</td>\n",
              "      <td>2.350905</td>\n",
              "      <td>1.000000</td>\n",
              "    </tr>\n",
              "    <tr>\n",
              "      <th>50%</th>\n",
              "      <td>6566.500000</td>\n",
              "      <td>16.000000</td>\n",
              "      <td>0.000000</td>\n",
              "      <td>1.000000</td>\n",
              "      <td>2.000000</td>\n",
              "      <td>10.000000</td>\n",
              "      <td>7.00000</td>\n",
              "      <td>0.000000</td>\n",
              "      <td>1.000000</td>\n",
              "      <td>1.000000</td>\n",
              "      <td>0.000000</td>\n",
              "      <td>1.000000</td>\n",
              "      <td>0.000000</td>\n",
              "      <td>2.699420</td>\n",
              "      <td>2.000000</td>\n",
              "    </tr>\n",
              "    <tr>\n",
              "      <th>75%</th>\n",
              "      <td>9350.250000</td>\n",
              "      <td>17.000000</td>\n",
              "      <td>1.000000</td>\n",
              "      <td>2.000000</td>\n",
              "      <td>4.000000</td>\n",
              "      <td>14.000000</td>\n",
              "      <td>11.00000</td>\n",
              "      <td>1.000000</td>\n",
              "      <td>1.000000</td>\n",
              "      <td>1.000000</td>\n",
              "      <td>1.000000</td>\n",
              "      <td>1.000000</td>\n",
              "      <td>1.000000</td>\n",
              "      <td>3.037719</td>\n",
              "      <td>3.000000</td>\n",
              "    </tr>\n",
              "    <tr>\n",
              "      <th>max</th>\n",
              "      <td>12000.000000</td>\n",
              "      <td>18.000000</td>\n",
              "      <td>1.000000</td>\n",
              "      <td>3.000000</td>\n",
              "      <td>4.000000</td>\n",
              "      <td>19.000000</td>\n",
              "      <td>18.00000</td>\n",
              "      <td>1.000000</td>\n",
              "      <td>1.000000</td>\n",
              "      <td>1.000000</td>\n",
              "      <td>1.000000</td>\n",
              "      <td>1.000000</td>\n",
              "      <td>1.000000</td>\n",
              "      <td>4.380000</td>\n",
              "      <td>4.000000</td>\n",
              "    </tr>\n",
              "  </tbody>\n",
              "</table>\n",
              "</div>"
            ],
            "text/plain": [
              "          StudentID           Age        Gender     Ethnicity  \\\n",
              "count  10000.000000  10000.000000  10000.000000  10000.000000   \n",
              "mean    6554.252700     16.443900      0.448200      1.451300   \n",
              "std     3199.895523      1.075997      0.497334      1.067212   \n",
              "min     1001.000000     15.000000      0.000000      0.000000   \n",
              "25%     3775.750000     16.000000      0.000000      1.000000   \n",
              "50%     6566.500000     16.000000      0.000000      1.000000   \n",
              "75%     9350.250000     17.000000      1.000000      2.000000   \n",
              "max    12000.000000     18.000000      1.000000      3.000000   \n",
              "\n",
              "       ParentalEducation  StudyTimeWeekly     Absences      Tutoring  \\\n",
              "count       10000.000000     10000.000000  10000.00000  10000.000000   \n",
              "mean            2.224300        10.065600      7.22730      0.446500   \n",
              "std             1.472687         5.141978      5.24938      0.497154   \n",
              "min             0.000000         1.000000      0.00000      0.000000   \n",
              "25%             1.000000         6.000000      3.00000      0.000000   \n",
              "50%             2.000000        10.000000      7.00000      0.000000   \n",
              "75%             4.000000        14.000000     11.00000      1.000000   \n",
              "max             4.000000        19.000000     18.00000      1.000000   \n",
              "\n",
              "       ParentalSupport  Extracurricular        Sports         Music  \\\n",
              "count     10000.000000     10000.000000  10000.000000  10000.000000   \n",
              "mean          0.550400         0.559200      0.449400      0.552400   \n",
              "std           0.497478         0.496508      0.497458      0.497272   \n",
              "min           0.000000         0.000000      0.000000      0.000000   \n",
              "25%           0.000000         0.000000      0.000000      0.000000   \n",
              "50%           1.000000         1.000000      0.000000      1.000000   \n",
              "75%           1.000000         1.000000      1.000000      1.000000   \n",
              "max           1.000000         1.000000      1.000000      1.000000   \n",
              "\n",
              "       Volunteering           GPA    GradeClass  \n",
              "count  10000.000000  10000.000000  10000.000000  \n",
              "mean       0.445700      2.696713      2.339400  \n",
              "std        0.497068      0.549403      1.154617  \n",
              "min        0.000000      0.601010      1.000000  \n",
              "25%        0.000000      2.350905      1.000000  \n",
              "50%        0.000000      2.699420      2.000000  \n",
              "75%        1.000000      3.037719      3.000000  \n",
              "max        1.000000      4.380000      4.000000  "
            ]
          },
          "execution_count": 12,
          "metadata": {},
          "output_type": "execute_result"
        }
      ],
      "source": [
        "df.describe()"
      ]
    },
    {
      "cell_type": "code",
      "execution_count": 13,
      "metadata": {
        "colab": {
          "base_uri": "https://localhost:8080/"
        },
        "id": "B0CmDlsPKe7Y",
        "outputId": "00b141d1-1228-481c-ad61-8da3c9fe56ea"
      },
      "outputs": [
        {
          "data": {
            "text/plain": [
              "0"
            ]
          },
          "execution_count": 13,
          "metadata": {},
          "output_type": "execute_result"
        }
      ],
      "source": [
        "df.duplicated().sum()"
      ]
    },
    {
      "cell_type": "code",
      "execution_count": null,
      "metadata": {},
      "outputs": [],
      "source": []
    },
    {
      "cell_type": "code",
      "execution_count": 14,
      "metadata": {
        "colab": {
          "base_uri": "https://localhost:8080/"
        },
        "id": "RTlEGdlGKmuu",
        "outputId": "1aab4b04-362b-4746-e19a-d674b0390495"
      },
      "outputs": [
        {
          "name": "stdout",
          "output_type": "stream",
          "text": [
            "Series([], Name: StudentID, dtype: int64)\n",
            "Series([], Name: Age, dtype: float64)\n",
            "Series([], Name: Gender, dtype: float64)\n",
            "Series([], Name: Ethnicity, dtype: float64)\n",
            "Series([], Name: ParentalEducation, dtype: float64)\n",
            "Series([], Name: StudyTimeWeekly, dtype: float64)\n",
            "Series([], Name: Absences, dtype: float64)\n",
            "Series([], Name: Tutoring, dtype: float64)\n",
            "Series([], Name: ParentalSupport, dtype: float64)\n",
            "Series([], Name: Extracurricular, dtype: float64)\n",
            "Series([], Name: Sports, dtype: float64)\n",
            "Series([], Name: Music, dtype: float64)\n",
            "Series([], Name: Volunteering, dtype: float64)\n",
            "0       4.150311\n",
            "8       1.191989\n",
            "35      4.260000\n",
            "38      4.100802\n",
            "40      4.080050\n",
            "          ...   \n",
            "9413    4.173709\n",
            "9434    4.096430\n",
            "9528    4.111545\n",
            "9869    1.168290\n",
            "9995    4.167504\n",
            "Name: GPA, Length: 170, dtype: float64\n",
            "Outliers in column 'GPA':\n",
            "[4.15031119 1.19198887 4.26       4.10080189 4.08004953 1.30219816\n",
            " 1.27530411 1.19423437 1.31954846 1.16705177 4.14065948 4.08\n",
            " 0.91535422 4.14       0.95900636 1.25311056 1.31960197 4.3\n",
            " 4.08107494 1.30025877 1.09392689 4.11938936 4.32412851 1.17084312\n",
            " 4.13682295 1.19860334 0.60100963 1.21047984 1.14011429 1.20613339\n",
            " 4.11054453 4.09904583 4.2290307  1.05474117 4.34       0.89218974\n",
            " 4.38       1.18667096 1.30954286 4.22       4.2376511  4.13458961\n",
            " 0.91532667 1.20694799 4.12       1.30154946 4.097575   1.08726358\n",
            " 4.10735064 1.20843769 4.27412335 1.0507611  1.17724841 1.02087086\n",
            " 1.15276448 4.24       4.1        4.07721691 0.73277526 4.12996435\n",
            " 1.2895158  4.22091586 1.26763598 1.21045887 4.07901053 1.20716352\n",
            " 1.29383906 4.28       1.25050791 4.23721029 4.15616744 1.17695862\n",
            " 1.2829292  4.29143716 4.19253365 4.15252878 1.28672112 1.29966324\n",
            " 4.14361049 1.26096553 1.23712862 0.90016998 1.30670499 1.25812519\n",
            " 4.09973597 4.10180533 4.18972618 4.11868134 1.29516888 0.7749021\n",
            " 1.26886044 1.0178538  1.30611754 4.22101252 1.19629835 4.14026037\n",
            " 4.08997345 1.10480234 4.19891729 4.18       4.32       4.11054026\n",
            " 4.22262119 4.07822937 1.28453994 4.17093372 1.26459565 4.13790766\n",
            " 1.27039115 1.10379395 1.14332235 4.1703987  4.07176846 1.1658387\n",
            " 4.11737053 4.24267693 1.01664971 4.36       4.35739766 1.12290397\n",
            " 1.21093739 1.20978661 1.15441207 1.05100083 1.14413478 1.16996914\n",
            " 1.16496966 4.10388607 4.07728996 1.22036645 4.3611351  4.09371115\n",
            " 4.28094575 0.94450505 1.25138012 1.29571971 1.15592107 0.77451677\n",
            " 1.29801266 1.03736923 1.29668671 4.17162547 4.15596147 4.26104157\n",
            " 1.01148029 4.23841152 1.01408741 4.21220458 4.13991205 4.17370949\n",
            " 4.0964302  4.11154451 1.16829002 4.16750422]\n",
            "--------------------\n",
            "Series([], Name: GradeClass, dtype: float64)\n"
          ]
        }
      ],
      "source": [
        "def identify_outliers(data):\n",
        "    Q1 = np.percentile(data, 25)\n",
        "    Q3 = np.percentile(data, 75)\n",
        "    IQR = Q3 - Q1\n",
        "    lower_bound = Q1 - 1.5 * IQR\n",
        "    upper_bound = Q3 + 1.5 * IQR\n",
        "    outliers = data[(data < lower_bound) | (data > upper_bound)]\n",
        "    return outliers\n",
        "\n",
        "# Iterate through numeric columns and print outliers\n",
        "for column in df.select_dtypes(include=[np.number]).columns:\n",
        "    outliers = identify_outliers(df[column])\n",
        "    print(outliers)\n",
        "    if not outliers.empty:\n",
        "      print(f\"Outliers in column '{column}':\")\n",
        "      print(outliers.unique())\n",
        "      print(\"-\" * 20)"
      ]
    },
    {
      "cell_type": "code",
      "execution_count": 15,
      "metadata": {
        "colab": {
          "base_uri": "https://localhost:8080/",
          "height": 554
        },
        "id": "dneOGU6ZLIKc",
        "outputId": "8cd6aadd-42a2-4318-9e9b-d4c4758c6a7e"
      },
      "outputs": [
        {
          "data": {
            "text/plain": [
              "StudentID            0\n",
              "Age                  0\n",
              "Gender               0\n",
              "Ethnicity            0\n",
              "ParentalEducation    0\n",
              "StudyTimeWeekly      0\n",
              "Absences             0\n",
              "Tutoring             0\n",
              "ParentalSupport      0\n",
              "Extracurricular      0\n",
              "Sports               0\n",
              "Music                0\n",
              "Volunteering         0\n",
              "GPA                  0\n",
              "GradeClass           0\n",
              "dtype: int64"
            ]
          },
          "execution_count": 15,
          "metadata": {},
          "output_type": "execute_result"
        }
      ],
      "source": [
        "df.isnull().sum()"
      ]
    },
    {
      "cell_type": "code",
      "execution_count": null,
      "metadata": {},
      "outputs": [],
      "source": []
    },
    {
      "cell_type": "code",
      "execution_count": 16,
      "metadata": {
        "colab": {
          "base_uri": "https://localhost:8080/"
        },
        "id": "yfdSY4laPPCQ",
        "outputId": "18d89024-b125-4bc7-96f3-713ce26e4b8a"
      },
      "outputs": [
        {
          "name": "stdout",
          "output_type": "stream",
          "text": [
            "Ethnicity Map DataFrame:\n",
            "   Code         Ethnicity\n",
            "0     0         Caucasian\n",
            "1     1  African American\n",
            "2     2             Asian\n",
            "3     3             Other\n",
            "\n",
            "Parental Education Map DataFrame:\n",
            "   Code ParentalEducation\n",
            "0     0              None\n",
            "1     1       High School\n",
            "2     2      Some College\n",
            "3     3        Bachelor's\n",
            "4     4            Higher\n",
            "\n",
            "Parental Support Map DataFrame:\n",
            "   Code ParentalSupport\n",
            "0     0            None\n",
            "1     1             Low\n",
            "2     2        Moderate\n",
            "3     3            High\n",
            "4     4       Very High\n",
            "\n",
            "Grade Class Map DataFrame:\n",
            "   Code GradeClass\n",
            "0     0          A\n",
            "1     1          B\n",
            "2     2          C\n",
            "3     3          D\n",
            "4     4          F\n"
          ]
        }
      ],
      "source": [
        "ethnicity_map = {\n",
        "    0: \"Caucasian\",\n",
        "    1: \"African American\",\n",
        "    2: \"Asian\",\n",
        "    3: \"Other\"\n",
        "}\n",
        "\n",
        "parental_education_map = {\n",
        "    0: \"None\",\n",
        "    1: \"High School\",\n",
        "    2: \"Some College\",\n",
        "    3: \"Bachelor's\",\n",
        "    4: \"Higher\"\n",
        "}\n",
        "\n",
        "parental_support_map = {\n",
        "    0: \"None\",\n",
        "    1: \"Low\",\n",
        "    2: \"Moderate\",\n",
        "    3: \"High\",\n",
        "    4: \"Very High\"\n",
        "}\n",
        "\n",
        "grade_class_map = {\n",
        "    0: \"A\",\n",
        "    1: \"B\",\n",
        "    2: \"C\",\n",
        "    3: \"D\",\n",
        "    4: \"F\"\n",
        "}\n",
        "\n",
        "# Convert each mapping dictionary into a DataFrame\n",
        "df_ethnicity_map = pd.DataFrame(list(ethnicity_map.items()), columns=[\"Code\", \"Ethnicity\"])\n",
        "df_parental_education_map = pd.DataFrame(list(parental_education_map.items()), columns=[\"Code\", \"ParentalEducation\"])\n",
        "df_parental_support_map = pd.DataFrame(list(parental_support_map.items()), columns=[\"Code\", \"ParentalSupport\"])\n",
        "df_grade_class_map = pd.DataFrame(list(grade_class_map.items()), columns=[\"Code\", \"GradeClass\"])\n",
        "\n",
        "# Display the DataFrames\n",
        "print(\"Ethnicity Map DataFrame:\")\n",
        "print(df_ethnicity_map)\n",
        "print(\"\\nParental Education Map DataFrame:\")\n",
        "print(df_parental_education_map)\n",
        "print(\"\\nParental Support Map DataFrame:\")\n",
        "print(df_parental_support_map)\n",
        "print(\"\\nGrade Class Map DataFrame:\")\n",
        "print(df_grade_class_map)\n",
        "\n",
        "df_ethnicity_map.to_csv(\"ethnicity_map.csv\", index=False)\n",
        "df_parental_education_map.to_csv(\"parental_education_map.csv\", index=False)\n",
        "df_parental_support_map.to_csv(\"parental_support_map.csv\", index=False)\n",
        "df_grade_class_map.to_csv(\"grade_class_map.csv\", index=False)\n"
      ]
    },
    {
      "cell_type": "code",
      "execution_count": 17,
      "metadata": {},
      "outputs": [],
      "source": [
        "gender_map = {\n",
        "    0: \"Male\",\n",
        "    1: \"Female\",\n",
        "}\n",
        "\n",
        "df_gender_map = pd.DataFrame(list(gender_map.items()), columns=[\"Code\", \"Gender\"])\n",
        "\n",
        "df_gender_map.to_csv(\"gender_map.csv\", index=False)"
      ]
    },
    {
      "cell_type": "code",
      "execution_count": 18,
      "metadata": {
        "colab": {
          "base_uri": "https://localhost:8080/",
          "height": 226
        },
        "id": "vDcpkHEEObOl",
        "outputId": "c2dc8a25-7396-45e1-8ad6-6e47a8ea2e47"
      },
      "outputs": [
        {
          "data": {
            "text/html": [
              "<div>\n",
              "<style scoped>\n",
              "    .dataframe tbody tr th:only-of-type {\n",
              "        vertical-align: middle;\n",
              "    }\n",
              "\n",
              "    .dataframe tbody tr th {\n",
              "        vertical-align: top;\n",
              "    }\n",
              "\n",
              "    .dataframe thead th {\n",
              "        text-align: right;\n",
              "    }\n",
              "</style>\n",
              "<table border=\"1\" class=\"dataframe\">\n",
              "  <thead>\n",
              "    <tr style=\"text-align: right;\">\n",
              "      <th></th>\n",
              "      <th>StudentID</th>\n",
              "      <th>Age</th>\n",
              "      <th>Gender</th>\n",
              "      <th>Ethnicity</th>\n",
              "      <th>ParentalEducation</th>\n",
              "      <th>StudyTimeWeekly</th>\n",
              "      <th>Absences</th>\n",
              "      <th>Tutoring</th>\n",
              "      <th>ParentalSupport</th>\n",
              "      <th>Extracurricular</th>\n",
              "      <th>Sports</th>\n",
              "      <th>Music</th>\n",
              "      <th>Volunteering</th>\n",
              "      <th>GPA</th>\n",
              "      <th>GradeClass</th>\n",
              "    </tr>\n",
              "  </thead>\n",
              "  <tbody>\n",
              "    <tr>\n",
              "      <th>0</th>\n",
              "      <td>1001</td>\n",
              "      <td>17.0</td>\n",
              "      <td>0.0</td>\n",
              "      <td>1.0</td>\n",
              "      <td>3.0</td>\n",
              "      <td>10.0</td>\n",
              "      <td>7.0</td>\n",
              "      <td>1.0</td>\n",
              "      <td>1.0</td>\n",
              "      <td>0.0</td>\n",
              "      <td>1.0</td>\n",
              "      <td>1.0</td>\n",
              "      <td>0.0</td>\n",
              "      <td>4.150311</td>\n",
              "      <td>3.0</td>\n",
              "    </tr>\n",
              "    <tr>\n",
              "      <th>1</th>\n",
              "      <td>1002</td>\n",
              "      <td>18.0</td>\n",
              "      <td>1.0</td>\n",
              "      <td>3.0</td>\n",
              "      <td>4.0</td>\n",
              "      <td>17.0</td>\n",
              "      <td>3.0</td>\n",
              "      <td>0.0</td>\n",
              "      <td>1.0</td>\n",
              "      <td>1.0</td>\n",
              "      <td>0.0</td>\n",
              "      <td>0.0</td>\n",
              "      <td>1.0</td>\n",
              "      <td>3.157054</td>\n",
              "      <td>3.0</td>\n",
              "    </tr>\n",
              "    <tr>\n",
              "      <th>2</th>\n",
              "      <td>1003</td>\n",
              "      <td>16.0</td>\n",
              "      <td>0.0</td>\n",
              "      <td>3.0</td>\n",
              "      <td>4.0</td>\n",
              "      <td>13.0</td>\n",
              "      <td>16.0</td>\n",
              "      <td>0.0</td>\n",
              "      <td>1.0</td>\n",
              "      <td>1.0</td>\n",
              "      <td>0.0</td>\n",
              "      <td>1.0</td>\n",
              "      <td>0.0</td>\n",
              "      <td>3.270831</td>\n",
              "      <td>3.0</td>\n",
              "    </tr>\n",
              "    <tr>\n",
              "      <th>3</th>\n",
              "      <td>1004</td>\n",
              "      <td>17.0</td>\n",
              "      <td>1.0</td>\n",
              "      <td>1.0</td>\n",
              "      <td>3.0</td>\n",
              "      <td>2.0</td>\n",
              "      <td>14.0</td>\n",
              "      <td>1.0</td>\n",
              "      <td>1.0</td>\n",
              "      <td>0.0</td>\n",
              "      <td>1.0</td>\n",
              "      <td>1.0</td>\n",
              "      <td>0.0</td>\n",
              "      <td>2.809237</td>\n",
              "      <td>4.0</td>\n",
              "    </tr>\n",
              "    <tr>\n",
              "      <th>4</th>\n",
              "      <td>1005</td>\n",
              "      <td>17.0</td>\n",
              "      <td>0.0</td>\n",
              "      <td>0.0</td>\n",
              "      <td>3.0</td>\n",
              "      <td>13.0</td>\n",
              "      <td>7.0</td>\n",
              "      <td>1.0</td>\n",
              "      <td>0.0</td>\n",
              "      <td>1.0</td>\n",
              "      <td>0.0</td>\n",
              "      <td>1.0</td>\n",
              "      <td>1.0</td>\n",
              "      <td>2.699420</td>\n",
              "      <td>2.0</td>\n",
              "    </tr>\n",
              "  </tbody>\n",
              "</table>\n",
              "</div>"
            ],
            "text/plain": [
              "   StudentID   Age  Gender  Ethnicity  ParentalEducation  StudyTimeWeekly  \\\n",
              "0       1001  17.0     0.0        1.0                3.0             10.0   \n",
              "1       1002  18.0     1.0        3.0                4.0             17.0   \n",
              "2       1003  16.0     0.0        3.0                4.0             13.0   \n",
              "3       1004  17.0     1.0        1.0                3.0              2.0   \n",
              "4       1005  17.0     0.0        0.0                3.0             13.0   \n",
              "\n",
              "   Absences  Tutoring  ParentalSupport  Extracurricular  Sports  Music  \\\n",
              "0       7.0       1.0              1.0              0.0     1.0    1.0   \n",
              "1       3.0       0.0              1.0              1.0     0.0    0.0   \n",
              "2      16.0       0.0              1.0              1.0     0.0    1.0   \n",
              "3      14.0       1.0              1.0              0.0     1.0    1.0   \n",
              "4       7.0       1.0              0.0              1.0     0.0    1.0   \n",
              "\n",
              "   Volunteering       GPA  GradeClass  \n",
              "0           0.0  4.150311         3.0  \n",
              "1           1.0  3.157054         3.0  \n",
              "2           0.0  3.270831         3.0  \n",
              "3           0.0  2.809237         4.0  \n",
              "4           1.0  2.699420         2.0  "
            ]
          },
          "execution_count": 18,
          "metadata": {},
          "output_type": "execute_result"
        }
      ],
      "source": [
        "df.head()"
      ]
    },
    {
      "cell_type": "code",
      "execution_count": 19,
      "metadata": {
        "id": "WdzVQJd5aabP"
      },
      "outputs": [
        {
          "name": "stderr",
          "output_type": "stream",
          "text": [
            "/Users/alielrogbany/opt/anaconda3/lib/python3.9/site-packages/scipy/__init__.py:146: UserWarning: A NumPy version >=1.16.5 and <1.23.0 is required for this version of SciPy (detected version 1.26.4\n",
            "  warnings.warn(f\"A NumPy version >={np_minversion} and <{np_maxversion}\"\n"
          ]
        }
      ],
      "source": [
        "import pandas as pd\n",
        "import numpy as np\n",
        "import seaborn as sns\n",
        "import matplotlib.pyplot as plt\n",
        "from sklearn.preprocessing import MinMaxScaler, LabelEncoder\n",
        "from sklearn.preprocessing import MinMaxScaler"
      ]
    },
    {
      "cell_type": "code",
      "execution_count": 23,
      "metadata": {
        "colab": {
          "base_uri": "https://localhost:8080/"
        },
        "id": "YticZze0agM0",
        "outputId": "4ec8dec6-d7e1-4972-ef4b-6c3c438c471e"
      },
      "outputs": [
        {
          "name": "stdout",
          "output_type": "stream",
          "text": [
            "Binned DataFrame:\n",
            "   StudyTimeWeekly StudyTime_Binned  Absences Absences_Binned\n",
            "0             10.0         Moderate       7.0             Few\n",
            "1             17.0             Many       3.0        Very Few\n",
            "2             13.0         Moderate      16.0            Many\n",
            "3              2.0         Very Few      14.0        Moderate\n",
            "4             13.0         Moderate       7.0             Few\n"
          ]
        }
      ],
      "source": [
        "study_bins = [0, 5, 10, 15, 20, 30]\n",
        "study_labels = ['Very Few', 'Few', 'Moderate', 'Many', 'Very Many']\n",
        "df['StudyTime_Binned'] = pd.cut(df['StudyTimeWeekly'], bins=study_bins, labels=study_labels, right=False)\n",
        "\n",
        "absences_bins = [0, 5, 10, 15, 20, 30]\n",
        "absences_labels = ['Very Few', 'Few', 'Moderate', 'Many', 'Very Many']\n",
        "df['Absences_Binned'] = pd.cut(df['Absences'], bins=absences_bins, labels=absences_labels, right=False)\n",
        "\n",
        "print(\"Binned DataFrame:\")\n",
        "print(df[['StudyTimeWeekly', 'StudyTime_Binned', 'Absences', 'Absences_Binned']].head())"
      ]
    },
    {
      "cell_type": "code",
      "execution_count": 24,
      "metadata": {
        "colab": {
          "base_uri": "https://localhost:8080/",
          "height": 693
        },
        "id": "79OFJAH_bKcs",
        "outputId": "9209f10a-2a72-4a6b-aedc-d072fbfdccb6"
      },
      "outputs": [
        {
          "data": {
            "image/png": "[encoded data removed]",
            "text/plain": [
              "<Figure size 864x576 with 2 Axes>"
            ]
          },
          "metadata": {
            "needs_background": "light"
          },
          "output_type": "display_data"
        }
      ],
      "source": [
        "plt.figure(figsize=(12, 8))\n",
        "# Exclude columns with interval data type before calculating correlation\n",
        "correlation_matrix = df.select_dtypes(exclude=['category', 'object']).corr()\n",
        "sns.heatmap(correlation_matrix, annot=True, cmap=\"coolwarm\", fmt=\".2f\")\n",
        "plt.title(\"Correlation Heatmap\")\n",
        "plt.show()"
      ]
    },
    {
      "cell_type": "code",
      "execution_count": 25,
      "metadata": {
        "colab": {
          "base_uri": "https://localhost:8080/",
          "height": 564
        },
        "id": "DC7tKuDZgGh6",
        "outputId": "adceec55-ad53-4507-9963-bfc60e1bb204"
      },
      "outputs": [
        {
          "data": {
            "image/png": "[encoded data removed]",
            "text/plain": [
              "<Figure size 720x432 with 1 Axes>"
            ]
          },
          "metadata": {
            "needs_background": "light"
          },
          "output_type": "display_data"
        }
      ],
      "source": [
        "plt.figure(figsize=(10, 6))\n",
        "sns.barplot(x='ParentalSupport', y='GPA', data=df)\n",
        "plt.title('Impact of Parental Support on Test Scores')\n",
        "plt.xlabel('Parental Support Level')\n",
        "plt.ylabel('GPA')\n",
        "plt.show()"
      ]
    },
    {
      "cell_type": "code",
      "execution_count": 33,
      "metadata": {
        "colab": {
          "background_save": true,
          "base_uri": "https://localhost:8080/",
          "height": 391
        },
        "id": "TC9zM8dYhvvj",
        "outputId": "37c79c0c-0159-4865-ccad-1ba1513fa1a5"
      },
      "outputs": [
        {
          "data": {
            "image/png": "[encoded data removed]",
            "text/plain": [
              "<Figure size 576x432 with 1 Axes>"
            ]
          },
          "metadata": {
            "needs_background": "light"
          },
          "output_type": "display_data"
        }
      ],
      "source": [
        "import seaborn as sns\n",
        "import matplotlib.pyplot as plt\n",
        "bin_edges = [0, 5, 8, 10, 18, 20]  # Adjust these based on your data range\n",
        "bin_labels = ['very few','few', 'moderate', 'many', 'very many']  # Labels for the bins\n",
        "df['study_time_bins'] = pd.cut(df['StudyTimeWeekly'], bins=bin_edges, labels=bin_labels)\n",
        "\n",
        "\n",
        "plt.figure(figsize=(8, 6))\n",
        "sns.barplot(x='study_time_bins', y='GPA', data=df)\n",
        "plt.title('GPA vs. Weekly Study Time')\n",
        "plt.xlabel('Weekly Study Time (hours)')\n",
        "plt.ylabel('GPA')\n",
        "plt.show()"
      ]
    },
    {
      "cell_type": "code",
      "execution_count": 36,
      "metadata": {
        "id": "YyFJwwV9jsUJ"
      },
      "outputs": [
        {
          "data": {
            "image/png": "[encoded data removed]",
            "text/plain": [
              "<Figure size 720x432 with 1 Axes>"
            ]
          },
          "metadata": {
            "needs_background": "light"
          },
          "output_type": "display_data"
        }
      ],
      "source": [
        "plt.figure(figsize=(10, 6))\n",
        "sns.lineplot(x='Absences', y='GPA', data=df)\n",
        "plt.title('Relationship between Absences and Study Time')\n",
        "plt.xlabel('Absences')\n",
        "plt.ylabel('GPA')\n",
        "plt.show()"
      ]
    },
    {
      "cell_type": "code",
      "execution_count": 20,
      "metadata": {},
      "outputs": [
        {
          "data": {
            "image/png": "[encoded data removed]",
            "text/plain": [
              "<Figure size 720x432 with 1 Axes>"
            ]
          },
          "metadata": {
            "needs_background": "light"
          },
          "output_type": "display_data"
        }
      ],
      "source": [
        "plt.figure(figsize=(10, 6))\n",
        "sns.histplot(df['GPA'], kde=True)\n",
        "plt.title('GPA Distribution')\n",
        "plt.show()"
      ]
    },
    {
      "cell_type": "code",
      "execution_count": 48,
      "metadata": {
        "id": "orsZ-Qodjs1p"
      },
      "outputs": [],
      "source": [
        "df.to_csv(\"/Users/alielrogbany/Downloads/Student_performance_data.csv\", index=False)\n"
      ]
    }
  ],
  "metadata": {
    "colab": {
      "provenance": []
    },
    "kernelspec": {
      "display_name": "base",
      "language": "python",
      "name": "python3"
    },
    "language_info": {
      "codemirror_mode": {
        "name": "ipython",
        "version": 3
      },
      "file_extension": ".py",
      "mimetype": "text/x-python",
      "name": "python",
      "nbconvert_exporter": "python",
      "pygments_lexer": "ipython3",
      "version": "3.9.12"
    }
  },
  "nbformat": 4,
  "nbformat_minor": 0
}
