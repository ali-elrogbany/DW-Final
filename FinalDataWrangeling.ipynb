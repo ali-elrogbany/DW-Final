{
  "cells": [
    {
      "cell_type": "code",
      "execution_count": 18,
      "metadata": {
        "id": "fMyyUsV8JkLr"
      },
      "outputs": [],
      "source": [
        "import pandas as pd\n",
        "import numpy as np"
      ]
    },
    {
      "cell_type": "code",
      "execution_count": 19,
      "metadata": {
        "id": "5s8ktxk1J-k8"
      },
      "outputs": [],
      "source": [
        "df = pd.read_csv(\"/Users/alielrogbany/Downloads/Student_performance_data _..csv\")\n"
      ]
    },
    {
      "cell_type": "code",
      "execution_count": 20,
      "metadata": {
        "colab": {
          "base_uri": "https://localhost:8080/",
          "height": 226
        },
        "id": "a1wfQrmbKNhs",
        "outputId": "1d9f93d0-0d35-4725-8673-2ae9bbc1b464"
      },
      "outputs": [
        {
          "data": {
            "text/html": [
              "<div>\n",
              "<style scoped>\n",
              "    .dataframe tbody tr th:only-of-type {\n",
              "        vertical-align: middle;\n",
              "    }\n",
              "\n",
              "    .dataframe tbody tr th {\n",
              "        vertical-align: top;\n",
              "    }\n",
              "\n",
              "    .dataframe thead th {\n",
              "        text-align: right;\n",
              "    }\n",
              "</style>\n",
              "<table border=\"1\" class=\"dataframe\">\n",
              "  <thead>\n",
              "    <tr style=\"text-align: right;\">\n",
              "      <th></th>\n",
              "      <th>StudentID</th>\n",
              "      <th>Age</th>\n",
              "      <th>Gender</th>\n",
              "      <th>Ethnicity</th>\n",
              "      <th>ParentalEducation</th>\n",
              "      <th>StudyTimeWeekly</th>\n",
              "      <th>Absences</th>\n",
              "      <th>Tutoring</th>\n",
              "      <th>ParentalSupport</th>\n",
              "      <th>Extracurricular</th>\n",
              "      <th>Sports</th>\n",
              "      <th>Music</th>\n",
              "      <th>Volunteering</th>\n",
              "      <th>GPA</th>\n",
              "      <th>GradeClass</th>\n",
              "    </tr>\n",
              "  </thead>\n",
              "  <tbody>\n",
              "    <tr>\n",
              "      <th>0</th>\n",
              "      <td>1001.0</td>\n",
              "      <td>18.0</td>\n",
              "      <td>1.0</td>\n",
              "      <td>0.0</td>\n",
              "      <td>3.0</td>\n",
              "      <td>4.655264</td>\n",
              "      <td>4.0</td>\n",
              "      <td>NaN</td>\n",
              "      <td>1.0</td>\n",
              "      <td>1.0</td>\n",
              "      <td>1.0</td>\n",
              "      <td>0.0</td>\n",
              "      <td>0.0</td>\n",
              "      <td>0.866630</td>\n",
              "      <td>2.0</td>\n",
              "    </tr>\n",
              "    <tr>\n",
              "      <th>1</th>\n",
              "      <td>1002.0</td>\n",
              "      <td>19.0</td>\n",
              "      <td>1.0</td>\n",
              "      <td>2.0</td>\n",
              "      <td>3.0</td>\n",
              "      <td>24.813180</td>\n",
              "      <td>10.0</td>\n",
              "      <td>0.0</td>\n",
              "      <td>NaN</td>\n",
              "      <td>0.0</td>\n",
              "      <td>0.0</td>\n",
              "      <td>0.0</td>\n",
              "      <td>1.0</td>\n",
              "      <td>1.636670</td>\n",
              "      <td>3.0</td>\n",
              "    </tr>\n",
              "    <tr>\n",
              "      <th>2</th>\n",
              "      <td>1003.0</td>\n",
              "      <td>17.0</td>\n",
              "      <td>0.0</td>\n",
              "      <td>NaN</td>\n",
              "      <td>1.0</td>\n",
              "      <td>20.234667</td>\n",
              "      <td>9.0</td>\n",
              "      <td>0.0</td>\n",
              "      <td>0.0</td>\n",
              "      <td>NaN</td>\n",
              "      <td>1.0</td>\n",
              "      <td>0.0</td>\n",
              "      <td>1.0</td>\n",
              "      <td>1.468527</td>\n",
              "      <td>4.0</td>\n",
              "    </tr>\n",
              "    <tr>\n",
              "      <th>3</th>\n",
              "      <td>1004.0</td>\n",
              "      <td>19.0</td>\n",
              "      <td>NaN</td>\n",
              "      <td>0.0</td>\n",
              "      <td>0.0</td>\n",
              "      <td>3.439106</td>\n",
              "      <td>NaN</td>\n",
              "      <td>0.0</td>\n",
              "      <td>2.0</td>\n",
              "      <td>0.0</td>\n",
              "      <td>0.0</td>\n",
              "      <td>0.0</td>\n",
              "      <td>1.0</td>\n",
              "      <td>3.393947</td>\n",
              "      <td>4.0</td>\n",
              "    </tr>\n",
              "    <tr>\n",
              "      <th>4</th>\n",
              "      <td>NaN</td>\n",
              "      <td>19.0</td>\n",
              "      <td>0.0</td>\n",
              "      <td>1.0</td>\n",
              "      <td>2.0</td>\n",
              "      <td>7.772118</td>\n",
              "      <td>14.0</td>\n",
              "      <td>0.0</td>\n",
              "      <td>NaN</td>\n",
              "      <td>NaN</td>\n",
              "      <td>1.0</td>\n",
              "      <td>0.0</td>\n",
              "      <td>1.0</td>\n",
              "      <td>2.343896</td>\n",
              "      <td>3.0</td>\n",
              "    </tr>\n",
              "  </tbody>\n",
              "</table>\n",
              "</div>"
            ],
            "text/plain": [
              "   StudentID   Age  Gender  Ethnicity  ParentalEducation  StudyTimeWeekly  \\\n",
              "0     1001.0  18.0     1.0        0.0                3.0         4.655264   \n",
              "1     1002.0  19.0     1.0        2.0                3.0        24.813180   \n",
              "2     1003.0  17.0     0.0        NaN                1.0        20.234667   \n",
              "3     1004.0  19.0     NaN        0.0                0.0         3.439106   \n",
              "4        NaN  19.0     0.0        1.0                2.0         7.772118   \n",
              "\n",
              "   Absences  Tutoring  ParentalSupport  Extracurricular  Sports  Music  \\\n",
              "0       4.0       NaN              1.0              1.0     1.0    0.0   \n",
              "1      10.0       0.0              NaN              0.0     0.0    0.0   \n",
              "2       9.0       0.0              0.0              NaN     1.0    0.0   \n",
              "3       NaN       0.0              2.0              0.0     0.0    0.0   \n",
              "4      14.0       0.0              NaN              NaN     1.0    0.0   \n",
              "\n",
              "   Volunteering       GPA  GradeClass  \n",
              "0           0.0  0.866630         2.0  \n",
              "1           1.0  1.636670         3.0  \n",
              "2           1.0  1.468527         4.0  \n",
              "3           1.0  3.393947         4.0  \n",
              "4           1.0  2.343896         3.0  "
            ]
          },
          "execution_count": 20,
          "metadata": {},
          "output_type": "execute_result"
        }
      ],
      "source": [
        "df.head()"
      ]
    },
    {
      "cell_type": "code",
      "execution_count": 21,
      "metadata": {
        "colab": {
          "base_uri": "https://localhost:8080/"
        },
        "id": "QKkFfal7KPbn",
        "outputId": "b0942280-50d8-47c6-8242-362829b1c46f"
      },
      "outputs": [
        {
          "name": "stdout",
          "output_type": "stream",
          "text": [
            "<class 'pandas.core.frame.DataFrame'>\n",
            "RangeIndex: 10500 entries, 0 to 10499\n",
            "Data columns (total 15 columns):\n",
            " #   Column             Non-Null Count  Dtype  \n",
            "---  ------             --------------  -----  \n",
            " 0   StudentID          9502 non-null   float64\n",
            " 1   Age                9502 non-null   float64\n",
            " 2   Gender             9496 non-null   float64\n",
            " 3   Ethnicity          9501 non-null   float64\n",
            " 4   ParentalEducation  9500 non-null   float64\n",
            " 5   StudyTimeWeekly    9490 non-null   float64\n",
            " 6   Absences           9494 non-null   float64\n",
            " 7   Tutoring           9494 non-null   float64\n",
            " 8   ParentalSupport    9496 non-null   float64\n",
            " 9   Extracurricular    9502 non-null   float64\n",
            " 10  Sports             9500 non-null   float64\n",
            " 11  Music              9491 non-null   float64\n",
            " 12  Volunteering       9495 non-null   float64\n",
            " 13  GPA                9500 non-null   float64\n",
            " 14  GradeClass         9507 non-null   float64\n",
            "dtypes: float64(15)\n",
            "memory usage: 1.2 MB\n"
          ]
        }
      ],
      "source": [
        "df.info()"
      ]
    },
    {
      "cell_type": "code",
      "execution_count": 22,
      "metadata": {},
      "outputs": [
        {
          "data": {
            "text/html": [
              "<div>\n",
              "<style scoped>\n",
              "    .dataframe tbody tr th:only-of-type {\n",
              "        vertical-align: middle;\n",
              "    }\n",
              "\n",
              "    .dataframe tbody tr th {\n",
              "        vertical-align: top;\n",
              "    }\n",
              "\n",
              "    .dataframe thead th {\n",
              "        text-align: right;\n",
              "    }\n",
              "</style>\n",
              "<table border=\"1\" class=\"dataframe\">\n",
              "  <thead>\n",
              "    <tr style=\"text-align: right;\">\n",
              "      <th></th>\n",
              "      <th>StudentID</th>\n",
              "      <th>Age</th>\n",
              "      <th>Gender</th>\n",
              "      <th>Ethnicity</th>\n",
              "      <th>ParentalEducation</th>\n",
              "      <th>StudyTimeWeekly</th>\n",
              "      <th>Absences</th>\n",
              "      <th>Tutoring</th>\n",
              "      <th>ParentalSupport</th>\n",
              "      <th>Extracurricular</th>\n",
              "      <th>Sports</th>\n",
              "      <th>Music</th>\n",
              "      <th>Volunteering</th>\n",
              "      <th>GPA</th>\n",
              "      <th>GradeClass</th>\n",
              "    </tr>\n",
              "  </thead>\n",
              "  <tbody>\n",
              "    <tr>\n",
              "      <th>0</th>\n",
              "      <td>1001</td>\n",
              "      <td>18.0</td>\n",
              "      <td>1.0</td>\n",
              "      <td>0.0</td>\n",
              "      <td>3.0</td>\n",
              "      <td>4.655264</td>\n",
              "      <td>4.0</td>\n",
              "      <td>NaN</td>\n",
              "      <td>1.0</td>\n",
              "      <td>1.0</td>\n",
              "      <td>1.0</td>\n",
              "      <td>0.0</td>\n",
              "      <td>0.0</td>\n",
              "      <td>0.866630</td>\n",
              "      <td>2.0</td>\n",
              "    </tr>\n",
              "    <tr>\n",
              "      <th>1</th>\n",
              "      <td>1002</td>\n",
              "      <td>19.0</td>\n",
              "      <td>1.0</td>\n",
              "      <td>2.0</td>\n",
              "      <td>3.0</td>\n",
              "      <td>24.813180</td>\n",
              "      <td>10.0</td>\n",
              "      <td>0.0</td>\n",
              "      <td>NaN</td>\n",
              "      <td>0.0</td>\n",
              "      <td>0.0</td>\n",
              "      <td>0.0</td>\n",
              "      <td>1.0</td>\n",
              "      <td>1.636670</td>\n",
              "      <td>3.0</td>\n",
              "    </tr>\n",
              "    <tr>\n",
              "      <th>2</th>\n",
              "      <td>1003</td>\n",
              "      <td>17.0</td>\n",
              "      <td>0.0</td>\n",
              "      <td>NaN</td>\n",
              "      <td>1.0</td>\n",
              "      <td>20.234667</td>\n",
              "      <td>9.0</td>\n",
              "      <td>0.0</td>\n",
              "      <td>0.0</td>\n",
              "      <td>NaN</td>\n",
              "      <td>1.0</td>\n",
              "      <td>0.0</td>\n",
              "      <td>1.0</td>\n",
              "      <td>1.468527</td>\n",
              "      <td>4.0</td>\n",
              "    </tr>\n",
              "    <tr>\n",
              "      <th>3</th>\n",
              "      <td>1004</td>\n",
              "      <td>19.0</td>\n",
              "      <td>NaN</td>\n",
              "      <td>0.0</td>\n",
              "      <td>0.0</td>\n",
              "      <td>3.439106</td>\n",
              "      <td>NaN</td>\n",
              "      <td>0.0</td>\n",
              "      <td>2.0</td>\n",
              "      <td>0.0</td>\n",
              "      <td>0.0</td>\n",
              "      <td>0.0</td>\n",
              "      <td>1.0</td>\n",
              "      <td>3.393947</td>\n",
              "      <td>4.0</td>\n",
              "    </tr>\n",
              "    <tr>\n",
              "      <th>4</th>\n",
              "      <td>11501</td>\n",
              "      <td>19.0</td>\n",
              "      <td>0.0</td>\n",
              "      <td>1.0</td>\n",
              "      <td>2.0</td>\n",
              "      <td>7.772118</td>\n",
              "      <td>14.0</td>\n",
              "      <td>0.0</td>\n",
              "      <td>NaN</td>\n",
              "      <td>NaN</td>\n",
              "      <td>1.0</td>\n",
              "      <td>0.0</td>\n",
              "      <td>1.0</td>\n",
              "      <td>2.343896</td>\n",
              "      <td>3.0</td>\n",
              "    </tr>\n",
              "  </tbody>\n",
              "</table>\n",
              "</div>"
            ],
            "text/plain": [
              "   StudentID   Age  Gender  Ethnicity  ParentalEducation  StudyTimeWeekly  \\\n",
              "0       1001  18.0     1.0        0.0                3.0         4.655264   \n",
              "1       1002  19.0     1.0        2.0                3.0        24.813180   \n",
              "2       1003  17.0     0.0        NaN                1.0        20.234667   \n",
              "3       1004  19.0     NaN        0.0                0.0         3.439106   \n",
              "4      11501  19.0     0.0        1.0                2.0         7.772118   \n",
              "\n",
              "   Absences  Tutoring  ParentalSupport  Extracurricular  Sports  Music  \\\n",
              "0       4.0       NaN              1.0              1.0     1.0    0.0   \n",
              "1      10.0       0.0              NaN              0.0     0.0    0.0   \n",
              "2       9.0       0.0              0.0              NaN     1.0    0.0   \n",
              "3       NaN       0.0              2.0              0.0     0.0    0.0   \n",
              "4      14.0       0.0              NaN              NaN     1.0    0.0   \n",
              "\n",
              "   Volunteering       GPA  GradeClass  \n",
              "0           0.0  0.866630         2.0  \n",
              "1           1.0  1.636670         3.0  \n",
              "2           1.0  1.468527         4.0  \n",
              "3           1.0  3.393947         4.0  \n",
              "4           1.0  2.343896         3.0  "
            ]
          },
          "execution_count": 22,
          "metadata": {},
          "output_type": "execute_result"
        }
      ],
      "source": [
        "df['StudentID'] = df['StudentID'].fillna(0)  # Temporary fill for missing IDs\n",
        "max_id = int(df['StudentID'].max())\n",
        "missing_ids = df[df['StudentID'] == 0].index\n",
        "df.loc[missing_ids, 'StudentID'] = range(max_id + 1, max_id + 1 + len(missing_ids))\n",
        "df['StudentID'] = df['StudentID'].astype(int)  \n",
        "df.head()"
      ]
    },
    {
      "cell_type": "code",
      "execution_count": 23,
      "metadata": {},
      "outputs": [],
      "source": [
        "df['Age'] = df['Age'].fillna(df['Age'].median())"
      ]
    },
    {
      "cell_type": "code",
      "execution_count": 24,
      "metadata": {},
      "outputs": [],
      "source": [
        "df['Gender'] = df['Gender'].fillna(df['Gender'].mode()[0])\n",
        "df['Ethnicity'] = df['Ethnicity'].fillna(df['Ethnicity'].mode()[0])\n",
        "df['ParentalEducation'] = df['ParentalEducation'].fillna(df['ParentalEducation'].mode()[0])"
      ]
    },
    {
      "cell_type": "code",
      "execution_count": 25,
      "metadata": {},
      "outputs": [],
      "source": [
        "df['StudyTimeWeekly'] = df['StudyTimeWeekly'].fillna(df['StudyTimeWeekly'].median())\n",
        "df['Absences'] = df['Absences'].fillna(df['Absences'].median())"
      ]
    },
    {
      "cell_type": "code",
      "execution_count": 26,
      "metadata": {},
      "outputs": [],
      "source": [
        "df['Tutoring'] = df['Tutoring'].fillna(df['Tutoring'].mode()[0])\n",
        "df['ParentalSupport'] = df['ParentalSupport'].fillna(df['ParentalSupport'].mode()[0])\n",
        "df['Extracurricular'] = df['Extracurricular'].fillna(df['Extracurricular'].mode()[0])\n",
        "df['Sports'] = df['Sports'].fillna(df['Sports'].mode()[0])\n",
        "df['Music'] = df['Music'].fillna(df['Music'].mode()[0])\n",
        "df['Volunteering'] = df['Volunteering'].fillna(df['Volunteering'].mode()[0])"
      ]
    },
    {
      "cell_type": "code",
      "execution_count": 27,
      "metadata": {},
      "outputs": [],
      "source": [
        "df['GPA'] = df['GPA'].fillna(df['GPA'].median())\n",
        "df['GradeClass'] = df['GradeClass'].fillna(df['GradeClass'].mode()[0])"
      ]
    },
    {
      "cell_type": "code",
      "execution_count": 28,
      "metadata": {},
      "outputs": [
        {
          "data": {
            "text/html": [
              "<div>\n",
              "<style scoped>\n",
              "    .dataframe tbody tr th:only-of-type {\n",
              "        vertical-align: middle;\n",
              "    }\n",
              "\n",
              "    .dataframe tbody tr th {\n",
              "        vertical-align: top;\n",
              "    }\n",
              "\n",
              "    .dataframe thead th {\n",
              "        text-align: right;\n",
              "    }\n",
              "</style>\n",
              "<table border=\"1\" class=\"dataframe\">\n",
              "  <thead>\n",
              "    <tr style=\"text-align: right;\">\n",
              "      <th></th>\n",
              "      <th>StudentID</th>\n",
              "      <th>Age</th>\n",
              "      <th>Gender</th>\n",
              "      <th>Ethnicity</th>\n",
              "      <th>ParentalEducation</th>\n",
              "      <th>StudyTimeWeekly</th>\n",
              "      <th>Absences</th>\n",
              "      <th>Tutoring</th>\n",
              "      <th>ParentalSupport</th>\n",
              "      <th>Extracurricular</th>\n",
              "      <th>Sports</th>\n",
              "      <th>Music</th>\n",
              "      <th>Volunteering</th>\n",
              "      <th>GPA</th>\n",
              "      <th>GradeClass</th>\n",
              "    </tr>\n",
              "  </thead>\n",
              "  <tbody>\n",
              "    <tr>\n",
              "      <th>0</th>\n",
              "      <td>1001</td>\n",
              "      <td>18.0</td>\n",
              "      <td>1.0</td>\n",
              "      <td>0.0</td>\n",
              "      <td>3.0</td>\n",
              "      <td>4.655264</td>\n",
              "      <td>4.0</td>\n",
              "      <td>0.0</td>\n",
              "      <td>1.0</td>\n",
              "      <td>1.0</td>\n",
              "      <td>1.0</td>\n",
              "      <td>0.0</td>\n",
              "      <td>0.0</td>\n",
              "      <td>0.866630</td>\n",
              "      <td>2.0</td>\n",
              "    </tr>\n",
              "    <tr>\n",
              "      <th>1</th>\n",
              "      <td>1002</td>\n",
              "      <td>19.0</td>\n",
              "      <td>1.0</td>\n",
              "      <td>2.0</td>\n",
              "      <td>3.0</td>\n",
              "      <td>24.813180</td>\n",
              "      <td>10.0</td>\n",
              "      <td>0.0</td>\n",
              "      <td>1.0</td>\n",
              "      <td>0.0</td>\n",
              "      <td>0.0</td>\n",
              "      <td>0.0</td>\n",
              "      <td>1.0</td>\n",
              "      <td>1.636670</td>\n",
              "      <td>3.0</td>\n",
              "    </tr>\n",
              "    <tr>\n",
              "      <th>2</th>\n",
              "      <td>1003</td>\n",
              "      <td>17.0</td>\n",
              "      <td>0.0</td>\n",
              "      <td>1.0</td>\n",
              "      <td>1.0</td>\n",
              "      <td>20.234667</td>\n",
              "      <td>9.0</td>\n",
              "      <td>0.0</td>\n",
              "      <td>0.0</td>\n",
              "      <td>1.0</td>\n",
              "      <td>1.0</td>\n",
              "      <td>0.0</td>\n",
              "      <td>1.0</td>\n",
              "      <td>1.468527</td>\n",
              "      <td>4.0</td>\n",
              "    </tr>\n",
              "    <tr>\n",
              "      <th>3</th>\n",
              "      <td>1004</td>\n",
              "      <td>19.0</td>\n",
              "      <td>1.0</td>\n",
              "      <td>0.0</td>\n",
              "      <td>0.0</td>\n",
              "      <td>3.439106</td>\n",
              "      <td>15.0</td>\n",
              "      <td>0.0</td>\n",
              "      <td>2.0</td>\n",
              "      <td>0.0</td>\n",
              "      <td>0.0</td>\n",
              "      <td>0.0</td>\n",
              "      <td>1.0</td>\n",
              "      <td>3.393947</td>\n",
              "      <td>4.0</td>\n",
              "    </tr>\n",
              "    <tr>\n",
              "      <th>4</th>\n",
              "      <td>11501</td>\n",
              "      <td>19.0</td>\n",
              "      <td>0.0</td>\n",
              "      <td>1.0</td>\n",
              "      <td>2.0</td>\n",
              "      <td>7.772118</td>\n",
              "      <td>14.0</td>\n",
              "      <td>0.0</td>\n",
              "      <td>1.0</td>\n",
              "      <td>1.0</td>\n",
              "      <td>1.0</td>\n",
              "      <td>0.0</td>\n",
              "      <td>1.0</td>\n",
              "      <td>2.343896</td>\n",
              "      <td>3.0</td>\n",
              "    </tr>\n",
              "  </tbody>\n",
              "</table>\n",
              "</div>"
            ],
            "text/plain": [
              "   StudentID   Age  Gender  Ethnicity  ParentalEducation  StudyTimeWeekly  \\\n",
              "0       1001  18.0     1.0        0.0                3.0         4.655264   \n",
              "1       1002  19.0     1.0        2.0                3.0        24.813180   \n",
              "2       1003  17.0     0.0        1.0                1.0        20.234667   \n",
              "3       1004  19.0     1.0        0.0                0.0         3.439106   \n",
              "4      11501  19.0     0.0        1.0                2.0         7.772118   \n",
              "\n",
              "   Absences  Tutoring  ParentalSupport  Extracurricular  Sports  Music  \\\n",
              "0       4.0       0.0              1.0              1.0     1.0    0.0   \n",
              "1      10.0       0.0              1.0              0.0     0.0    0.0   \n",
              "2       9.0       0.0              0.0              1.0     1.0    0.0   \n",
              "3      15.0       0.0              2.0              0.0     0.0    0.0   \n",
              "4      14.0       0.0              1.0              1.0     1.0    0.0   \n",
              "\n",
              "   Volunteering       GPA  GradeClass  \n",
              "0           0.0  0.866630         2.0  \n",
              "1           1.0  1.636670         3.0  \n",
              "2           1.0  1.468527         4.0  \n",
              "3           1.0  3.393947         4.0  \n",
              "4           1.0  2.343896         3.0  "
            ]
          },
          "execution_count": 28,
          "metadata": {},
          "output_type": "execute_result"
        }
      ],
      "source": [
        "df.head()"
      ]
    },
    {
      "cell_type": "code",
      "execution_count": 29,
      "metadata": {
        "colab": {
          "base_uri": "https://localhost:8080/",
          "height": 320
        },
        "id": "djZUEUEWKUZF",
        "outputId": "f2546c57-727f-4854-ed41-113575fce66a"
      },
      "outputs": [
        {
          "data": {
            "text/html": [
              "<div>\n",
              "<style scoped>\n",
              "    .dataframe tbody tr th:only-of-type {\n",
              "        vertical-align: middle;\n",
              "    }\n",
              "\n",
              "    .dataframe tbody tr th {\n",
              "        vertical-align: top;\n",
              "    }\n",
              "\n",
              "    .dataframe thead th {\n",
              "        text-align: right;\n",
              "    }\n",
              "</style>\n",
              "<table border=\"1\" class=\"dataframe\">\n",
              "  <thead>\n",
              "    <tr style=\"text-align: right;\">\n",
              "      <th></th>\n",
              "      <th>StudentID</th>\n",
              "      <th>Age</th>\n",
              "      <th>Gender</th>\n",
              "      <th>Ethnicity</th>\n",
              "      <th>ParentalEducation</th>\n",
              "      <th>StudyTimeWeekly</th>\n",
              "      <th>Absences</th>\n",
              "      <th>Tutoring</th>\n",
              "      <th>ParentalSupport</th>\n",
              "      <th>Extracurricular</th>\n",
              "      <th>Sports</th>\n",
              "      <th>Music</th>\n",
              "      <th>Volunteering</th>\n",
              "      <th>GPA</th>\n",
              "      <th>GradeClass</th>\n",
              "    </tr>\n",
              "  </thead>\n",
              "  <tbody>\n",
              "    <tr>\n",
              "      <th>count</th>\n",
              "      <td>10500.000000</td>\n",
              "      <td>10500.000000</td>\n",
              "      <td>10500.000000</td>\n",
              "      <td>10500.000000</td>\n",
              "      <td>10500.000000</td>\n",
              "      <td>10500.000000</td>\n",
              "      <td>10500.000000</td>\n",
              "      <td>10500.000000</td>\n",
              "      <td>10500.000000</td>\n",
              "      <td>10500.000000</td>\n",
              "      <td>10500.000000</td>\n",
              "      <td>10500.000000</td>\n",
              "      <td>10500.000000</td>\n",
              "      <td>10500.000000</td>\n",
              "      <td>10500.000000</td>\n",
              "    </tr>\n",
              "    <tr>\n",
              "      <th>mean</th>\n",
              "      <td>6792.926190</td>\n",
              "      <td>17.001333</td>\n",
              "      <td>0.555048</td>\n",
              "      <td>1.003714</td>\n",
              "      <td>1.357238</td>\n",
              "      <td>12.591038</td>\n",
              "      <td>14.972190</td>\n",
              "      <td>0.448667</td>\n",
              "      <td>0.997524</td>\n",
              "      <td>0.555524</td>\n",
              "      <td>0.550952</td>\n",
              "      <td>0.451905</td>\n",
              "      <td>0.446381</td>\n",
              "      <td>1.995045</td>\n",
              "      <td>2.650952</td>\n",
              "    </tr>\n",
              "    <tr>\n",
              "      <th>std</th>\n",
              "      <td>3349.488932</td>\n",
              "      <td>1.353930</td>\n",
              "      <td>0.496984</td>\n",
              "      <td>0.774809</td>\n",
              "      <td>1.156857</td>\n",
              "      <td>6.851735</td>\n",
              "      <td>8.514897</td>\n",
              "      <td>0.497382</td>\n",
              "      <td>0.772660</td>\n",
              "      <td>0.496931</td>\n",
              "      <td>0.497421</td>\n",
              "      <td>0.497705</td>\n",
              "      <td>0.497140</td>\n",
              "      <td>1.096790</td>\n",
              "      <td>1.150696</td>\n",
              "    </tr>\n",
              "    <tr>\n",
              "      <th>min</th>\n",
              "      <td>1001.000000</td>\n",
              "      <td>15.000000</td>\n",
              "      <td>0.000000</td>\n",
              "      <td>0.000000</td>\n",
              "      <td>0.000000</td>\n",
              "      <td>0.000513</td>\n",
              "      <td>0.000000</td>\n",
              "      <td>0.000000</td>\n",
              "      <td>0.000000</td>\n",
              "      <td>0.000000</td>\n",
              "      <td>0.000000</td>\n",
              "      <td>0.000000</td>\n",
              "      <td>0.000000</td>\n",
              "      <td>0.000701</td>\n",
              "      <td>1.000000</td>\n",
              "    </tr>\n",
              "    <tr>\n",
              "      <th>25%</th>\n",
              "      <td>3879.750000</td>\n",
              "      <td>16.000000</td>\n",
              "      <td>0.000000</td>\n",
              "      <td>0.000000</td>\n",
              "      <td>0.000000</td>\n",
              "      <td>7.077181</td>\n",
              "      <td>8.000000</td>\n",
              "      <td>0.000000</td>\n",
              "      <td>0.000000</td>\n",
              "      <td>0.000000</td>\n",
              "      <td>0.000000</td>\n",
              "      <td>0.000000</td>\n",
              "      <td>0.000000</td>\n",
              "      <td>1.112425</td>\n",
              "      <td>2.000000</td>\n",
              "    </tr>\n",
              "    <tr>\n",
              "      <th>50%</th>\n",
              "      <td>6792.500000</td>\n",
              "      <td>17.000000</td>\n",
              "      <td>1.000000</td>\n",
              "      <td>1.000000</td>\n",
              "      <td>1.000000</td>\n",
              "      <td>12.655788</td>\n",
              "      <td>15.000000</td>\n",
              "      <td>0.000000</td>\n",
              "      <td>1.000000</td>\n",
              "      <td>1.000000</td>\n",
              "      <td>1.000000</td>\n",
              "      <td>0.000000</td>\n",
              "      <td>0.000000</td>\n",
              "      <td>1.976720</td>\n",
              "      <td>3.000000</td>\n",
              "    </tr>\n",
              "    <tr>\n",
              "      <th>75%</th>\n",
              "      <td>9720.250000</td>\n",
              "      <td>18.000000</td>\n",
              "      <td>1.000000</td>\n",
              "      <td>2.000000</td>\n",
              "      <td>2.000000</td>\n",
              "      <td>18.169871</td>\n",
              "      <td>22.000000</td>\n",
              "      <td>1.000000</td>\n",
              "      <td>2.000000</td>\n",
              "      <td>1.000000</td>\n",
              "      <td>1.000000</td>\n",
              "      <td>1.000000</td>\n",
              "      <td>1.000000</td>\n",
              "      <td>2.876154</td>\n",
              "      <td>4.000000</td>\n",
              "    </tr>\n",
              "    <tr>\n",
              "      <th>max</th>\n",
              "      <td>12498.000000</td>\n",
              "      <td>19.000000</td>\n",
              "      <td>1.000000</td>\n",
              "      <td>2.000000</td>\n",
              "      <td>3.000000</td>\n",
              "      <td>24.999347</td>\n",
              "      <td>30.000000</td>\n",
              "      <td>1.000000</td>\n",
              "      <td>2.000000</td>\n",
              "      <td>1.000000</td>\n",
              "      <td>1.000000</td>\n",
              "      <td>1.000000</td>\n",
              "      <td>1.000000</td>\n",
              "      <td>3.999900</td>\n",
              "      <td>4.000000</td>\n",
              "    </tr>\n",
              "  </tbody>\n",
              "</table>\n",
              "</div>"
            ],
            "text/plain": [
              "          StudentID           Age        Gender     Ethnicity  \\\n",
              "count  10500.000000  10500.000000  10500.000000  10500.000000   \n",
              "mean    6792.926190     17.001333      0.555048      1.003714   \n",
              "std     3349.488932      1.353930      0.496984      0.774809   \n",
              "min     1001.000000     15.000000      0.000000      0.000000   \n",
              "25%     3879.750000     16.000000      0.000000      0.000000   \n",
              "50%     6792.500000     17.000000      1.000000      1.000000   \n",
              "75%     9720.250000     18.000000      1.000000      2.000000   \n",
              "max    12498.000000     19.000000      1.000000      2.000000   \n",
              "\n",
              "       ParentalEducation  StudyTimeWeekly      Absences      Tutoring  \\\n",
              "count       10500.000000     10500.000000  10500.000000  10500.000000   \n",
              "mean            1.357238        12.591038     14.972190      0.448667   \n",
              "std             1.156857         6.851735      8.514897      0.497382   \n",
              "min             0.000000         0.000513      0.000000      0.000000   \n",
              "25%             0.000000         7.077181      8.000000      0.000000   \n",
              "50%             1.000000        12.655788     15.000000      0.000000   \n",
              "75%             2.000000        18.169871     22.000000      1.000000   \n",
              "max             3.000000        24.999347     30.000000      1.000000   \n",
              "\n",
              "       ParentalSupport  Extracurricular        Sports         Music  \\\n",
              "count     10500.000000     10500.000000  10500.000000  10500.000000   \n",
              "mean          0.997524         0.555524      0.550952      0.451905   \n",
              "std           0.772660         0.496931      0.497421      0.497705   \n",
              "min           0.000000         0.000000      0.000000      0.000000   \n",
              "25%           0.000000         0.000000      0.000000      0.000000   \n",
              "50%           1.000000         1.000000      1.000000      0.000000   \n",
              "75%           2.000000         1.000000      1.000000      1.000000   \n",
              "max           2.000000         1.000000      1.000000      1.000000   \n",
              "\n",
              "       Volunteering           GPA    GradeClass  \n",
              "count  10500.000000  10500.000000  10500.000000  \n",
              "mean       0.446381      1.995045      2.650952  \n",
              "std        0.497140      1.096790      1.150696  \n",
              "min        0.000000      0.000701      1.000000  \n",
              "25%        0.000000      1.112425      2.000000  \n",
              "50%        0.000000      1.976720      3.000000  \n",
              "75%        1.000000      2.876154      4.000000  \n",
              "max        1.000000      3.999900      4.000000  "
            ]
          },
          "execution_count": 29,
          "metadata": {},
          "output_type": "execute_result"
        }
      ],
      "source": [
        "df.describe()"
      ]
    },
    {
      "cell_type": "code",
      "execution_count": 30,
      "metadata": {
        "colab": {
          "base_uri": "https://localhost:8080/"
        },
        "id": "B0CmDlsPKe7Y",
        "outputId": "00b141d1-1228-481c-ad61-8da3c9fe56ea"
      },
      "outputs": [
        {
          "data": {
            "text/plain": [
              "0"
            ]
          },
          "execution_count": 30,
          "metadata": {},
          "output_type": "execute_result"
        }
      ],
      "source": [
        "df.duplicated().sum()"
      ]
    },
    {
      "cell_type": "code",
      "execution_count": null,
      "metadata": {},
      "outputs": [],
      "source": []
    },
    {
      "cell_type": "code",
      "execution_count": 34,
      "metadata": {
        "colab": {
          "base_uri": "https://localhost:8080/"
        },
        "id": "RTlEGdlGKmuu",
        "outputId": "1aab4b04-362b-4746-e19a-d674b0390495"
      },
      "outputs": [
        {
          "name": "stdout",
          "output_type": "stream",
          "text": [
            "Series([], Name: StudentID, dtype: int64)\n",
            "Series([], Name: Age, dtype: float64)\n",
            "Series([], Name: Gender, dtype: float64)\n",
            "Series([], Name: Ethnicity, dtype: float64)\n",
            "Series([], Name: ParentalEducation, dtype: float64)\n",
            "Series([], Name: StudyTimeWeekly, dtype: float64)\n",
            "Series([], Name: Absences, dtype: float64)\n",
            "Series([], Name: Tutoring, dtype: float64)\n",
            "Series([], Name: ParentalSupport, dtype: float64)\n",
            "Series([], Name: Extracurricular, dtype: float64)\n",
            "Series([], Name: Sports, dtype: float64)\n",
            "Series([], Name: Music, dtype: float64)\n",
            "Series([], Name: Volunteering, dtype: float64)\n",
            "Series([], Name: GPA, dtype: float64)\n",
            "Series([], Name: GradeClass, dtype: float64)\n"
          ]
        }
      ],
      "source": [
        "def identify_outliers(data):\n",
        "    Q1 = np.percentile(data, 25)\n",
        "    Q3 = np.percentile(data, 75)\n",
        "    IQR = Q3 - Q1\n",
        "    lower_bound = Q1 - 1.5 * IQR\n",
        "    upper_bound = Q3 + 1.5 * IQR\n",
        "    outliers = data[(data < lower_bound) | (data > upper_bound)]\n",
        "    return outliers\n",
        "\n",
        "# Iterate through numeric columns and print outliers\n",
        "for column in df.select_dtypes(include=[np.number]).columns:\n",
        "    outliers = identify_outliers(df[column])\n",
        "    print(outliers)\n",
        "    if not outliers.empty:\n",
        "      print(f\"Outliers in column '{column}':\")\n",
        "      print(outliers.unique())\n",
        "      print(\"-\" * 20)"
      ]
    },
    {
      "cell_type": "code",
      "execution_count": 35,
      "metadata": {
        "colab": {
          "base_uri": "https://localhost:8080/",
          "height": 554
        },
        "id": "dneOGU6ZLIKc",
        "outputId": "8cd6aadd-42a2-4318-9e9b-d4c4758c6a7e"
      },
      "outputs": [
        {
          "data": {
            "text/plain": [
              "StudentID            0\n",
              "Age                  0\n",
              "Gender               0\n",
              "Ethnicity            0\n",
              "ParentalEducation    0\n",
              "StudyTimeWeekly      0\n",
              "Absences             0\n",
              "Tutoring             0\n",
              "ParentalSupport      0\n",
              "Extracurricular      0\n",
              "Sports               0\n",
              "Music                0\n",
              "Volunteering         0\n",
              "GPA                  0\n",
              "GradeClass           0\n",
              "dtype: int64"
            ]
          },
          "execution_count": 35,
          "metadata": {},
          "output_type": "execute_result"
        }
      ],
      "source": [
        "df.isnull().sum()"
      ]
    },
    {
      "cell_type": "code",
      "execution_count": null,
      "metadata": {},
      "outputs": [],
      "source": []
    },
    {
      "cell_type": "code",
      "execution_count": 36,
      "metadata": {
        "colab": {
          "base_uri": "https://localhost:8080/"
        },
        "id": "yfdSY4laPPCQ",
        "outputId": "18d89024-b125-4bc7-96f3-713ce26e4b8a"
      },
      "outputs": [
        {
          "name": "stdout",
          "output_type": "stream",
          "text": [
            "Ethnicity Map DataFrame:\n",
            "   Code         Ethnicity\n",
            "0     0         Caucasian\n",
            "1     1  African American\n",
            "2     2             Asian\n",
            "3     3             Other\n",
            "\n",
            "Parental Education Map DataFrame:\n",
            "   Code ParentalEducation\n",
            "0     0              None\n",
            "1     1       High School\n",
            "2     2      Some College\n",
            "3     3        Bachelor's\n",
            "4     4            Higher\n",
            "\n",
            "Parental Support Map DataFrame:\n",
            "   Code ParentalSupport\n",
            "0     0            None\n",
            "1     1             Low\n",
            "2     2        Moderate\n",
            "3     3            High\n",
            "4     4       Very High\n",
            "\n",
            "Grade Class Map DataFrame:\n",
            "   Code GradeClass\n",
            "0     0          A\n",
            "1     1          B\n",
            "2     2          C\n",
            "3     3          D\n",
            "4     4          F\n"
          ]
        }
      ],
      "source": [
        "ethnicity_map = {\n",
        "    0: \"Caucasian\",\n",
        "    1: \"African American\",\n",
        "    2: \"Asian\",\n",
        "    3: \"Other\"\n",
        "}\n",
        "\n",
        "parental_education_map = {\n",
        "    0: \"None\",\n",
        "    1: \"High School\",\n",
        "    2: \"Some College\",\n",
        "    3: \"Bachelor's\",\n",
        "    4: \"Higher\"\n",
        "}\n",
        "\n",
        "parental_support_map = {\n",
        "    0: \"None\",\n",
        "    1: \"Low\",\n",
        "    2: \"Moderate\",\n",
        "    3: \"High\",\n",
        "    4: \"Very High\"\n",
        "}\n",
        "\n",
        "grade_class_map = {\n",
        "    0: \"A\",\n",
        "    1: \"B\",\n",
        "    2: \"C\",\n",
        "    3: \"D\",\n",
        "    4: \"F\"\n",
        "}\n",
        "\n",
        "# Convert each mapping dictionary into a DataFrame\n",
        "df_ethnicity_map = pd.DataFrame(list(ethnicity_map.items()), columns=[\"Code\", \"Ethnicity\"])\n",
        "df_parental_education_map = pd.DataFrame(list(parental_education_map.items()), columns=[\"Code\", \"ParentalEducation\"])\n",
        "df_parental_support_map = pd.DataFrame(list(parental_support_map.items()), columns=[\"Code\", \"ParentalSupport\"])\n",
        "df_grade_class_map = pd.DataFrame(list(grade_class_map.items()), columns=[\"Code\", \"GradeClass\"])\n",
        "\n",
        "# Display the DataFrames\n",
        "print(\"Ethnicity Map DataFrame:\")\n",
        "print(df_ethnicity_map)\n",
        "print(\"\\nParental Education Map DataFrame:\")\n",
        "print(df_parental_education_map)\n",
        "print(\"\\nParental Support Map DataFrame:\")\n",
        "print(df_parental_support_map)\n",
        "print(\"\\nGrade Class Map DataFrame:\")\n",
        "print(df_grade_class_map)\n",
        "\n",
        "df_ethnicity_map.to_csv(\"ethnicity_map.csv\", index=False)\n",
        "df_parental_education_map.to_csv(\"parental_education_map.csv\", index=False)\n",
        "df_parental_support_map.to_csv(\"parental_support_map.csv\", index=False)\n",
        "df_grade_class_map.to_csv(\"grade_class_map.csv\", index=False)\n"
      ]
    },
    {
      "cell_type": "code",
      "execution_count": 37,
      "metadata": {},
      "outputs": [],
      "source": [
        "gender_map = {\n",
        "    0: \"Male\",\n",
        "    1: \"Female\",\n",
        "}\n",
        "\n",
        "df_gender_map = pd.DataFrame(list(gender_map.items()), columns=[\"Code\", \"Gender\"])\n",
        "\n",
        "df_gender_map.to_csv(\"gender_map.csv\", index=False)"
      ]
    },
    {
      "cell_type": "code",
      "execution_count": 38,
      "metadata": {
        "colab": {
          "base_uri": "https://localhost:8080/",
          "height": 226
        },
        "id": "vDcpkHEEObOl",
        "outputId": "c2dc8a25-7396-45e1-8ad6-6e47a8ea2e47"
      },
      "outputs": [
        {
          "data": {
            "text/html": [
              "<div>\n",
              "<style scoped>\n",
              "    .dataframe tbody tr th:only-of-type {\n",
              "        vertical-align: middle;\n",
              "    }\n",
              "\n",
              "    .dataframe tbody tr th {\n",
              "        vertical-align: top;\n",
              "    }\n",
              "\n",
              "    .dataframe thead th {\n",
              "        text-align: right;\n",
              "    }\n",
              "</style>\n",
              "<table border=\"1\" class=\"dataframe\">\n",
              "  <thead>\n",
              "    <tr style=\"text-align: right;\">\n",
              "      <th></th>\n",
              "      <th>StudentID</th>\n",
              "      <th>Age</th>\n",
              "      <th>Gender</th>\n",
              "      <th>Ethnicity</th>\n",
              "      <th>ParentalEducation</th>\n",
              "      <th>StudyTimeWeekly</th>\n",
              "      <th>Absences</th>\n",
              "      <th>Tutoring</th>\n",
              "      <th>ParentalSupport</th>\n",
              "      <th>Extracurricular</th>\n",
              "      <th>Sports</th>\n",
              "      <th>Music</th>\n",
              "      <th>Volunteering</th>\n",
              "      <th>GPA</th>\n",
              "      <th>GradeClass</th>\n",
              "    </tr>\n",
              "  </thead>\n",
              "  <tbody>\n",
              "    <tr>\n",
              "      <th>0</th>\n",
              "      <td>1001</td>\n",
              "      <td>18.0</td>\n",
              "      <td>1.0</td>\n",
              "      <td>0.0</td>\n",
              "      <td>3.0</td>\n",
              "      <td>4.655264</td>\n",
              "      <td>4.0</td>\n",
              "      <td>0.0</td>\n",
              "      <td>1.0</td>\n",
              "      <td>1.0</td>\n",
              "      <td>1.0</td>\n",
              "      <td>0.0</td>\n",
              "      <td>0.0</td>\n",
              "      <td>0.866630</td>\n",
              "      <td>2.0</td>\n",
              "    </tr>\n",
              "    <tr>\n",
              "      <th>1</th>\n",
              "      <td>1002</td>\n",
              "      <td>19.0</td>\n",
              "      <td>1.0</td>\n",
              "      <td>2.0</td>\n",
              "      <td>3.0</td>\n",
              "      <td>24.813180</td>\n",
              "      <td>10.0</td>\n",
              "      <td>0.0</td>\n",
              "      <td>1.0</td>\n",
              "      <td>0.0</td>\n",
              "      <td>0.0</td>\n",
              "      <td>0.0</td>\n",
              "      <td>1.0</td>\n",
              "      <td>1.636670</td>\n",
              "      <td>3.0</td>\n",
              "    </tr>\n",
              "    <tr>\n",
              "      <th>2</th>\n",
              "      <td>1003</td>\n",
              "      <td>17.0</td>\n",
              "      <td>0.0</td>\n",
              "      <td>1.0</td>\n",
              "      <td>1.0</td>\n",
              "      <td>20.234667</td>\n",
              "      <td>9.0</td>\n",
              "      <td>0.0</td>\n",
              "      <td>0.0</td>\n",
              "      <td>1.0</td>\n",
              "      <td>1.0</td>\n",
              "      <td>0.0</td>\n",
              "      <td>1.0</td>\n",
              "      <td>1.468527</td>\n",
              "      <td>4.0</td>\n",
              "    </tr>\n",
              "    <tr>\n",
              "      <th>3</th>\n",
              "      <td>1004</td>\n",
              "      <td>19.0</td>\n",
              "      <td>1.0</td>\n",
              "      <td>0.0</td>\n",
              "      <td>0.0</td>\n",
              "      <td>3.439106</td>\n",
              "      <td>15.0</td>\n",
              "      <td>0.0</td>\n",
              "      <td>2.0</td>\n",
              "      <td>0.0</td>\n",
              "      <td>0.0</td>\n",
              "      <td>0.0</td>\n",
              "      <td>1.0</td>\n",
              "      <td>3.393947</td>\n",
              "      <td>4.0</td>\n",
              "    </tr>\n",
              "    <tr>\n",
              "      <th>4</th>\n",
              "      <td>11501</td>\n",
              "      <td>19.0</td>\n",
              "      <td>0.0</td>\n",
              "      <td>1.0</td>\n",
              "      <td>2.0</td>\n",
              "      <td>7.772118</td>\n",
              "      <td>14.0</td>\n",
              "      <td>0.0</td>\n",
              "      <td>1.0</td>\n",
              "      <td>1.0</td>\n",
              "      <td>1.0</td>\n",
              "      <td>0.0</td>\n",
              "      <td>1.0</td>\n",
              "      <td>2.343896</td>\n",
              "      <td>3.0</td>\n",
              "    </tr>\n",
              "  </tbody>\n",
              "</table>\n",
              "</div>"
            ],
            "text/plain": [
              "   StudentID   Age  Gender  Ethnicity  ParentalEducation  StudyTimeWeekly  \\\n",
              "0       1001  18.0     1.0        0.0                3.0         4.655264   \n",
              "1       1002  19.0     1.0        2.0                3.0        24.813180   \n",
              "2       1003  17.0     0.0        1.0                1.0        20.234667   \n",
              "3       1004  19.0     1.0        0.0                0.0         3.439106   \n",
              "4      11501  19.0     0.0        1.0                2.0         7.772118   \n",
              "\n",
              "   Absences  Tutoring  ParentalSupport  Extracurricular  Sports  Music  \\\n",
              "0       4.0       0.0              1.0              1.0     1.0    0.0   \n",
              "1      10.0       0.0              1.0              0.0     0.0    0.0   \n",
              "2       9.0       0.0              0.0              1.0     1.0    0.0   \n",
              "3      15.0       0.0              2.0              0.0     0.0    0.0   \n",
              "4      14.0       0.0              1.0              1.0     1.0    0.0   \n",
              "\n",
              "   Volunteering       GPA  GradeClass  \n",
              "0           0.0  0.866630         2.0  \n",
              "1           1.0  1.636670         3.0  \n",
              "2           1.0  1.468527         4.0  \n",
              "3           1.0  3.393947         4.0  \n",
              "4           1.0  2.343896         3.0  "
            ]
          },
          "execution_count": 38,
          "metadata": {},
          "output_type": "execute_result"
        }
      ],
      "source": [
        "df.head()"
      ]
    },
    {
      "cell_type": "code",
      "execution_count": 39,
      "metadata": {
        "id": "WdzVQJd5aabP"
      },
      "outputs": [
        {
          "name": "stderr",
          "output_type": "stream",
          "text": [
            "/Users/alielrogbany/opt/anaconda3/lib/python3.9/site-packages/scipy/__init__.py:146: UserWarning: A NumPy version >=1.16.5 and <1.23.0 is required for this version of SciPy (detected version 1.26.4\n",
            "  warnings.warn(f\"A NumPy version >={np_minversion} and <{np_maxversion}\"\n"
          ]
        }
      ],
      "source": [
        "import pandas as pd\n",
        "import numpy as np\n",
        "import seaborn as sns\n",
        "import matplotlib.pyplot as plt\n",
        "from sklearn.preprocessing import MinMaxScaler, LabelEncoder\n",
        "from sklearn.preprocessing import MinMaxScaler"
      ]
    },
    {
      "cell_type": "code",
      "execution_count": 40,
      "metadata": {
        "colab": {
          "base_uri": "https://localhost:8080/"
        },
        "id": "YticZze0agM0",
        "outputId": "4ec8dec6-d7e1-4972-ef4b-6c3c438c471e"
      },
      "outputs": [
        {
          "name": "stdout",
          "output_type": "stream",
          "text": [
            "Binned DataFrame:\n",
            "   StudyTimeWeekly StudyTimeWeekly_Binned  Absences Absences_Binned\n",
            "0         4.655264               Very Low       4.0        Very Few\n",
            "1        24.813180              Very High      10.0        Moderate\n",
            "2        20.234667              Very High       9.0             Few\n",
            "3         3.439106               Very Low      15.0            Many\n",
            "4         7.772118                    Low      14.0        Moderate\n"
          ]
        }
      ],
      "source": [
        "absences_bins = [0, 5, 10, 15, 20, 30]\n",
        "absences_labels = ['Very Few', 'Few', 'Moderate', 'Many', 'Very Many']\n",
        "df['Absences_Binned'] = pd.cut(df['Absences'], bins=absences_bins, labels=absences_labels, right=False)\n",
        "\n",
        "print(\"Binned DataFrame:\")\n",
        "print(df[['StudyTimeWeekly', 'StudyTimeWeekly_Binned', 'Absences', 'Absences_Binned']].head())"
      ]
    },
    {
      "cell_type": "code",
      "execution_count": 41,
      "metadata": {
        "colab": {
          "base_uri": "https://localhost:8080/",
          "height": 693
        },
        "id": "79OFJAH_bKcs",
        "outputId": "9209f10a-2a72-4a6b-aedc-d072fbfdccb6"
      },
      "outputs": [
        {
          "data": {
            "image/png": "[encoded data removed]",
            "text/plain": [
              "<Figure size 864x576 with 2 Axes>"
            ]
          },
          "metadata": {
            "needs_background": "light"
          },
          "output_type": "display_data"
        }
      ],
      "source": [
        "plt.figure(figsize=(12, 8))\n",
        "# Exclude columns with interval data type before calculating correlation\n",
        "correlation_matrix = df.select_dtypes(exclude=['category', 'object']).corr()\n",
        "sns.heatmap(correlation_matrix, annot=True, cmap=\"coolwarm\", fmt=\".2f\")\n",
        "plt.title(\"Correlation Heatmap\")\n",
        "plt.show()"
      ]
    },
    {
      "cell_type": "code",
      "execution_count": null,
      "metadata": {
        "colab": {
          "base_uri": "https://localhost:8080/",
          "height": 564
        },
        "id": "DC7tKuDZgGh6",
        "outputId": "adceec55-ad53-4507-9963-bfc60e1bb204"
      },
      "outputs": [
        {
          "data": {
            "image/png": "[encoded data removed]",
            "text/plain": [
              "<Figure size 1000x600 with 1 Axes>"
            ]
          },
          "metadata": {},
          "output_type": "display_data"
        }
      ],
      "source": [
        "plt.figure(figsize=(10, 6))\n",
        "sns.barplot(x='ParentalSupport', y='GPA', data=df)\n",
        "plt.title('Impact of Parental Support on Test Scores')\n",
        "plt.xlabel('Parental Support Level')\n",
        "plt.ylabel('GPA')\n",
        "plt.show()"
      ]
    },
    {
      "cell_type": "code",
      "execution_count": 44,
      "metadata": {
        "colab": {
          "background_save": true,
          "base_uri": "https://localhost:8080/",
          "height": 391
        },
        "id": "TC9zM8dYhvvj",
        "outputId": "37c79c0c-0159-4865-ccad-1ba1513fa1a5"
      },
      "outputs": [
        {
          "data": {
            "image/png": "[encoded data removed]",
            "text/plain": [
              "<Figure size 576x432 with 1 Axes>"
            ]
          },
          "metadata": {
            "needs_background": "light"
          },
          "output_type": "display_data"
        }
      ],
      "source": [
        "    import seaborn as sns\n",
        "    import matplotlib.pyplot as plt\n",
        "    bin_edges = [0, 5, 10, 20, 40, 60]  # Adjust these based on your data range\n",
        "    bin_labels = ['0-5', '5-10', '10-20', '20-40', '40-60']  # Labels for the bins\n",
        "    df['study_time_bins'] = pd.cut(df['StudyTimeWeekly'], bins=bin_edges, labels=bin_labels)\n",
        "\n",
        "\n",
        "    plt.figure(figsize=(8, 6))\n",
        "    sns.barplot(x='study_time_bins', y='GPA', data=df)\n",
        "    plt.title('GPA vs. Weekly Study Time')\n",
        "    plt.xlabel('Weekly Study Time (hours)')\n",
        "    plt.ylabel('GPA')\n",
        "    plt.show()"
      ]
    },
    {
      "cell_type": "code",
      "execution_count": 46,
      "metadata": {
        "id": "YyFJwwV9jsUJ"
      },
      "outputs": [
        {
          "data": {
            "image/png": "[encoded data removed]",
            "text/plain": [
              "<Figure size 576x432 with 1 Axes>"
            ]
          },
          "metadata": {
            "needs_background": "light"
          },
          "output_type": "display_data"
        }
      ],
      "source": [
        "df['Absences_bins'] = pd.cut(df['Absences'], bins=[0, 5, 10, 20, 50, 100], labels=['0-5', '6-10', '11-20', '21-50', '50+'])\n",
        "plt.figure(figsize=(8, 6))\n",
        "sns.boxplot(x='Absences_bins', y='GPA', data=df)\n",
        "plt.title('GPA vs. Absence Ranges')\n",
        "plt.xlabel('Absence Ranges')\n",
        "plt.ylabel('GPA')\n",
        "plt.show()\n"
      ]
    },
    {
      "cell_type": "code",
      "execution_count": 48,
      "metadata": {
        "id": "orsZ-Qodjs1p"
      },
      "outputs": [],
      "source": [
        "df.to_csv(\"/Users/alielrogbany/Downloads/Student_performance_data.csv\", index=False)\n"
      ]
    }
  ],
  "metadata": {
    "colab": {
      "provenance": []
    },
    "kernelspec": {
      "display_name": "base",
      "language": "python",
      "name": "python3"
    },
    "language_info": {
      "codemirror_mode": {
        "name": "ipython",
        "version": 3
      },
      "file_extension": ".py",
      "mimetype": "text/x-python",
      "name": "python",
      "nbconvert_exporter": "python",
      "pygments_lexer": "ipython3",
      "version": "3.9.12"
    }
  },
  "nbformat": 4,
  "nbformat_minor": 0
}
